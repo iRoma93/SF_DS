{
  "cells": [
    {
      "cell_type": "markdown",
      "id": "42289889-bd57-434e-9637-d3e354756316",
      "metadata": {
        "id": "42289889-bd57-434e-9637-d3e354756316"
      },
      "source": [
        "<center> <img src = https://raw.githubusercontent.com/AndreyRysistov/DatasetsForPandas/main/hh%20label.jpg alt=\"drawing\" style=\"width:400px;\">"
      ]
    },
    {
      "cell_type": "markdown",
      "id": "829cb75b-f14e-4ba8-9195-7ba929a7d656",
      "metadata": {
        "id": "829cb75b-f14e-4ba8-9195-7ba929a7d656",
        "tags": []
      },
      "source": [
        "# <center> Проект: Анализ вакансий из HeadHunter\n",
        "   "
      ]
    },
    {
      "cell_type": "code",
      "execution_count": 963,
      "id": "dccfde33-2452-43fb-a8a5-5c6ebc02a71d",
      "metadata": {
        "id": "dccfde33-2452-43fb-a8a5-5c6ebc02a71d"
      },
      "outputs": [],
      "source": [
        "import pandas as pd\n",
        "import psycopg2"
      ]
    },
    {
      "cell_type": "code",
      "execution_count": 964,
      "id": "32056b59",
      "metadata": {},
      "outputs": [],
      "source": [
        "DBNAME = 'project_sql'\n",
        "USER = 'skillfactory'\n",
        "PASSWORD = 'cCkxxLVrDE8EbvjueeMedPKt'\n",
        "HOST = '84.201.134.129'\n",
        "PORT = 5432"
      ]
    },
    {
      "cell_type": "code",
      "execution_count": 965,
      "id": "G4X_q8KBf7SF",
      "metadata": {
        "id": "G4X_q8KBf7SF"
      },
      "outputs": [],
      "source": [
        "connection = psycopg2.connect(\n",
        "    dbname=DBNAME,\n",
        "    user=USER,\n",
        "    host=HOST,\n",
        "    password=PASSWORD,\n",
        "    port=PORT\n",
        ")"
      ]
    },
    {
      "cell_type": "markdown",
      "id": "0dc6476b-7a00-44f1-ac93-6e3baed33a29",
      "metadata": {
        "id": "0dc6476b-7a00-44f1-ac93-6e3baed33a29"
      },
      "source": [
        "# Юнит 3. Предварительный анализ данных"
      ]
    },
    {
      "cell_type": "markdown",
      "id": "889782b6-8d1c-410e-8920-e57f27917c64",
      "metadata": {
        "id": "889782b6-8d1c-410e-8920-e57f27917c64"
      },
      "source": [
        "1. Напишите запрос, который посчитает количество вакансий в нашей базе (вакансии находятся в таблице vacancies). "
      ]
    },
    {
      "cell_type": "code",
      "execution_count": 966,
      "id": "bc39e68e-ed02-4ee2-9235-7258a2f867a8",
      "metadata": {
        "id": "bc39e68e-ed02-4ee2-9235-7258a2f867a8"
      },
      "outputs": [],
      "source": [
        "query_3_1 = f'''\n",
        "-- SQL-запрос для подсчета количества вакансий в таблице vacancies\n",
        "SELECT COUNT(*) -- подсчитывает общее количество строк в таблице\n",
        "FROM VACANCIES -- указывает таблицу vacancies как источник данных для запроса\n",
        "'''"
      ]
    },
    {
      "cell_type": "code",
      "execution_count": 967,
      "id": "7mAwtsk4hEHY",
      "metadata": {
        "id": "7mAwtsk4hEHY"
      },
      "outputs": [
        {
          "name": "stderr",
          "output_type": "stream",
          "text": [
            "C:\\Users\\Администратор\\AppData\\Local\\Temp\\ipykernel_14920\\2762814221.py:2: UserWarning:\n",
            "\n",
            "pandas only supports SQLAlchemy connectable (engine/connection) or database string URI or sqlite3 DBAPI2 connection. Other DBAPI2 objects are not tested. Please consider using SQLAlchemy.\n",
            "\n"
          ]
        },
        {
          "data": {
            "text/html": [
              "<div>\n",
              "<style scoped>\n",
              "    .dataframe tbody tr th:only-of-type {\n",
              "        vertical-align: middle;\n",
              "    }\n",
              "\n",
              "    .dataframe tbody tr th {\n",
              "        vertical-align: top;\n",
              "    }\n",
              "\n",
              "    .dataframe thead th {\n",
              "        text-align: right;\n",
              "    }\n",
              "</style>\n",
              "<table border=\"1\" class=\"dataframe\">\n",
              "  <thead>\n",
              "    <tr style=\"text-align: right;\">\n",
              "      <th></th>\n",
              "      <th>count</th>\n",
              "    </tr>\n",
              "  </thead>\n",
              "  <tbody>\n",
              "    <tr>\n",
              "      <th>0</th>\n",
              "      <td>49197</td>\n",
              "    </tr>\n",
              "  </tbody>\n",
              "</table>\n",
              "</div>"
            ],
            "text/plain": [
              "   count\n",
              "0  49197"
            ]
          },
          "execution_count": 967,
          "metadata": {},
          "output_type": "execute_result"
        }
      ],
      "source": [
        "# выполняем SQL-запрос и сохраняем результат в DataFrame 'df'\n",
        "df = pd.read_sql_query(query_3_1, connection)\n",
        "df # отображаем содержимое DataFrame 'df'"
      ]
    },
    {
      "cell_type": "markdown",
      "id": "b583485d-1f9e-494e-ada4-80ffff7c53d6",
      "metadata": {
        "id": "b583485d-1f9e-494e-ada4-80ffff7c53d6"
      },
      "source": [
        "2. Напишите запрос, который посчитает количество работодателей (таблица employers). "
      ]
    },
    {
      "cell_type": "code",
      "execution_count": 968,
      "id": "5408c52c-3407-4a63-b25b-1aafa2322d28",
      "metadata": {
        "id": "5408c52c-3407-4a63-b25b-1aafa2322d28"
      },
      "outputs": [],
      "source": [
        "query_3_2 = f'''\n",
        "-- SQL-запрос для подсчета количества работодателей в таблице employers\n",
        "SELECT COUNT(*) -- подсчитываем общее количество строк в таблице\n",
        "FROM EMPLOYERS -- указываем таблицу employers как источник данных для запроса\n",
        "'''"
      ]
    },
    {
      "cell_type": "code",
      "execution_count": 969,
      "id": "jVL4eshKhdqc",
      "metadata": {
        "id": "jVL4eshKhdqc"
      },
      "outputs": [
        {
          "name": "stderr",
          "output_type": "stream",
          "text": [
            "C:\\Users\\Администратор\\AppData\\Local\\Temp\\ipykernel_14920\\961071152.py:2: UserWarning:\n",
            "\n",
            "pandas only supports SQLAlchemy connectable (engine/connection) or database string URI or sqlite3 DBAPI2 connection. Other DBAPI2 objects are not tested. Please consider using SQLAlchemy.\n",
            "\n"
          ]
        },
        {
          "data": {
            "text/html": [
              "<div>\n",
              "<style scoped>\n",
              "    .dataframe tbody tr th:only-of-type {\n",
              "        vertical-align: middle;\n",
              "    }\n",
              "\n",
              "    .dataframe tbody tr th {\n",
              "        vertical-align: top;\n",
              "    }\n",
              "\n",
              "    .dataframe thead th {\n",
              "        text-align: right;\n",
              "    }\n",
              "</style>\n",
              "<table border=\"1\" class=\"dataframe\">\n",
              "  <thead>\n",
              "    <tr style=\"text-align: right;\">\n",
              "      <th></th>\n",
              "      <th>count</th>\n",
              "    </tr>\n",
              "  </thead>\n",
              "  <tbody>\n",
              "    <tr>\n",
              "      <th>0</th>\n",
              "      <td>23501</td>\n",
              "    </tr>\n",
              "  </tbody>\n",
              "</table>\n",
              "</div>"
            ],
            "text/plain": [
              "   count\n",
              "0  23501"
            ]
          },
          "execution_count": 969,
          "metadata": {},
          "output_type": "execute_result"
        }
      ],
      "source": [
        "# выполняем SQL-запрос и сохраняем результат в DataFrame 'df'\n",
        "df = pd.read_sql_query(query_3_2, connection)\n",
        "df # отображаем содержимое DataFrame 'df'"
      ]
    },
    {
      "cell_type": "markdown",
      "id": "a2bfff1f-c975-4bf6-84be-2185d79dcb76",
      "metadata": {
        "id": "a2bfff1f-c975-4bf6-84be-2185d79dcb76"
      },
      "source": [
        "3. Посчитате с помощью запроса количество регионов (таблица areas)."
      ]
    },
    {
      "cell_type": "code",
      "execution_count": 970,
      "id": "1m8QJwBYhey6",
      "metadata": {
        "id": "1m8QJwBYhey6"
      },
      "outputs": [],
      "source": [
        "query_3_3 = f'''\n",
        "-- SQL-запрос для подсчета количества регионов в таблице areas\n",
        "SELECT COUNT(*) -- подсчитываем общее количество строк в таблице\n",
        "FROM AREAS -- указываем таблицу areas как источник данных для запроса\n",
        "'''"
      ]
    },
    {
      "cell_type": "code",
      "execution_count": 971,
      "id": "EZsn9tlfhe7f",
      "metadata": {
        "id": "EZsn9tlfhe7f"
      },
      "outputs": [
        {
          "name": "stderr",
          "output_type": "stream",
          "text": [
            "C:\\Users\\Администратор\\AppData\\Local\\Temp\\ipykernel_14920\\3118071541.py:2: UserWarning:\n",
            "\n",
            "pandas only supports SQLAlchemy connectable (engine/connection) or database string URI or sqlite3 DBAPI2 connection. Other DBAPI2 objects are not tested. Please consider using SQLAlchemy.\n",
            "\n"
          ]
        },
        {
          "data": {
            "text/html": [
              "<div>\n",
              "<style scoped>\n",
              "    .dataframe tbody tr th:only-of-type {\n",
              "        vertical-align: middle;\n",
              "    }\n",
              "\n",
              "    .dataframe tbody tr th {\n",
              "        vertical-align: top;\n",
              "    }\n",
              "\n",
              "    .dataframe thead th {\n",
              "        text-align: right;\n",
              "    }\n",
              "</style>\n",
              "<table border=\"1\" class=\"dataframe\">\n",
              "  <thead>\n",
              "    <tr style=\"text-align: right;\">\n",
              "      <th></th>\n",
              "      <th>count</th>\n",
              "    </tr>\n",
              "  </thead>\n",
              "  <tbody>\n",
              "    <tr>\n",
              "      <th>0</th>\n",
              "      <td>1362</td>\n",
              "    </tr>\n",
              "  </tbody>\n",
              "</table>\n",
              "</div>"
            ],
            "text/plain": [
              "   count\n",
              "0   1362"
            ]
          },
          "execution_count": 971,
          "metadata": {},
          "output_type": "execute_result"
        }
      ],
      "source": [
        "# выполняем SQL-запрос и сохраняем результат в DataFrame 'df'\n",
        "df = pd.read_sql_query(query_3_3, connection)\n",
        "df # отображаем содержимое DataFrame 'df'"
      ]
    },
    {
      "cell_type": "markdown",
      "id": "41bb59f3-53cc-4a67-a5bc-bedf573955e4",
      "metadata": {
        "id": "41bb59f3-53cc-4a67-a5bc-bedf573955e4"
      },
      "source": [
        "4. Посчитате с помощью запроса количество сфер деятельности в базе (таблица industries)."
      ]
    },
    {
      "cell_type": "code",
      "execution_count": 972,
      "id": "d286cf4c-707b-4cd2-9190-7ab3587d04a1",
      "metadata": {
        "id": "d286cf4c-707b-4cd2-9190-7ab3587d04a1"
      },
      "outputs": [],
      "source": [
        "query_3_4 = f'''\n",
        "-- SQL-запрос для подсчета количества сфер деятельности в таблице industries\n",
        "SELECT COUNT(*) -- подсчитываем общее количество строк в таблице\n",
        "FROM INDUSTRIES -- указываем таблицу industries как источник данных для запроса\n",
        "'''"
      ]
    },
    {
      "cell_type": "code",
      "execution_count": 973,
      "id": "JYAaoZ4qhfzW",
      "metadata": {
        "id": "JYAaoZ4qhfzW"
      },
      "outputs": [
        {
          "name": "stderr",
          "output_type": "stream",
          "text": [
            "C:\\Users\\Администратор\\AppData\\Local\\Temp\\ipykernel_14920\\2301577313.py:2: UserWarning:\n",
            "\n",
            "pandas only supports SQLAlchemy connectable (engine/connection) or database string URI or sqlite3 DBAPI2 connection. Other DBAPI2 objects are not tested. Please consider using SQLAlchemy.\n",
            "\n"
          ]
        },
        {
          "data": {
            "text/html": [
              "<div>\n",
              "<style scoped>\n",
              "    .dataframe tbody tr th:only-of-type {\n",
              "        vertical-align: middle;\n",
              "    }\n",
              "\n",
              "    .dataframe tbody tr th {\n",
              "        vertical-align: top;\n",
              "    }\n",
              "\n",
              "    .dataframe thead th {\n",
              "        text-align: right;\n",
              "    }\n",
              "</style>\n",
              "<table border=\"1\" class=\"dataframe\">\n",
              "  <thead>\n",
              "    <tr style=\"text-align: right;\">\n",
              "      <th></th>\n",
              "      <th>count</th>\n",
              "    </tr>\n",
              "  </thead>\n",
              "  <tbody>\n",
              "    <tr>\n",
              "      <th>0</th>\n",
              "      <td>294</td>\n",
              "    </tr>\n",
              "  </tbody>\n",
              "</table>\n",
              "</div>"
            ],
            "text/plain": [
              "   count\n",
              "0    294"
            ]
          },
          "execution_count": 973,
          "metadata": {},
          "output_type": "execute_result"
        }
      ],
      "source": [
        "# выполняем SQL-запрос и сохраняем результат в DataFrame 'df'\n",
        "df = pd.read_sql_query(query_3_4, connection)\n",
        "df # отображаем содержимое DataFrame 'df'"
      ]
    },
    {
      "cell_type": "markdown",
      "id": "9a8a2181-6914-448b-85f1-38f5f18b8a93",
      "metadata": {
        "id": "9a8a2181-6914-448b-85f1-38f5f18b8a93"
      },
      "source": [
        "***"
      ]
    },
    {
      "cell_type": "markdown",
      "id": "0402076b",
      "metadata": {},
      "source": [
        "**Выводы предварительного анализа данных:**\n",
        "\n",
        "- Рынок труда: В базе данных содержится 49,197 вакансий, что указывает на большое количество возможностей для соискателей. Это число может отражать активность рынка труда в определённый период времени или в определённой географической области.  \n",
        "- Работодатели: С 23,501 работодателем в базе данных, видно, что множество компаний ищут новых сотрудников. Это разнообразие может способствовать конкуренции среди работодателей за привлечение талантов.  \n",
        "- Географическое Распределение: Существует 1,362 региона, что может указывать на широкий географический охват базы данных. Это также может быть полезно для анализа рынка труда по различным регионам и выявления трендов или потребностей в определённых местах.  \n",
        "- Сферы Деятельности: Наличие 294 сфер деятельности показывает многообразие отраслей, представленных в базе данных. Это может быть полезно для анализа спроса на рабочую силу в различных отраслях и планирования карьерного роста.  \n",
        "Эти данные могут быть полезны для разработки стратегий поиска работы, планирования карьеры, а также для компаний, стремящихся понять рынок труда и оптимизировать свои процессы найма. "
      ]
    },
    {
      "cell_type": "markdown",
      "id": "8d62a9f3-f64e-4fe7-bdac-c4dffa16155e",
      "metadata": {
        "id": "8d62a9f3-f64e-4fe7-bdac-c4dffa16155e"
      },
      "source": [
        "# Юнит 4. Детальный анализ вакансий"
      ]
    },
    {
      "cell_type": "markdown",
      "id": "93053d3d-b284-481a-9cf7-012d7014c0e0",
      "metadata": {
        "id": "93053d3d-b284-481a-9cf7-012d7014c0e0"
      },
      "source": [
        "1. Напишите запрос, который позволит узнать, сколько (cnt) вакансий в каждом регионе (area).\n",
        "Отсортируйте по количеству вакансий в порядке убывания."
      ]
    },
    {
      "cell_type": "code",
      "execution_count": 974,
      "id": "3f069da6-fdc9-4ae7-b514-fafe2675efd3",
      "metadata": {
        "id": "3f069da6-fdc9-4ae7-b514-fafe2675efd3"
      },
      "outputs": [],
      "source": [
        "query_4_1 = f'''\n",
        "-- Запрос для определения пяти регионов с наибольшим количеством вакансий\n",
        "SELECT \n",
        "    area.name AS \"Region Name\", -- 'Region Name' - название региона\n",
        "    COUNT(job.id) AS \"Vacancies Count\" -- 'Vacancies Count' - количество вакансий в регионе\n",
        "FROM AREAS area -- 'AREAS' - таблица, содержащая информацию о регионах\n",
        "INNER JOIN VACANCIES job ON area.id = job.area_id -- Соединение с таблицей 'vacancies' для связи вакансий с регионами\n",
        "GROUP BY area.id -- Группировка результатов по уникальному идентификатору региона\n",
        "ORDER BY \"Vacancies Count\" DESC -- Сортировка результатов по убыванию количества вакансий\n",
        "LIMIT 5 -- Ограничение вывода до пяти регионов с наибольшим количеством вакансий\n",
        "'''"
      ]
    },
    {
      "cell_type": "code",
      "execution_count": 975,
      "id": "P7QL86hrjhRJ",
      "metadata": {
        "id": "P7QL86hrjhRJ"
      },
      "outputs": [
        {
          "name": "stderr",
          "output_type": "stream",
          "text": [
            "C:\\Users\\Администратор\\AppData\\Local\\Temp\\ipykernel_14920\\509453402.py:2: UserWarning:\n",
            "\n",
            "pandas only supports SQLAlchemy connectable (engine/connection) or database string URI or sqlite3 DBAPI2 connection. Other DBAPI2 objects are not tested. Please consider using SQLAlchemy.\n",
            "\n"
          ]
        },
        {
          "data": {
            "text/html": [
              "<div>\n",
              "<style scoped>\n",
              "    .dataframe tbody tr th:only-of-type {\n",
              "        vertical-align: middle;\n",
              "    }\n",
              "\n",
              "    .dataframe tbody tr th {\n",
              "        vertical-align: top;\n",
              "    }\n",
              "\n",
              "    .dataframe thead th {\n",
              "        text-align: right;\n",
              "    }\n",
              "</style>\n",
              "<table border=\"1\" class=\"dataframe\">\n",
              "  <thead>\n",
              "    <tr style=\"text-align: right;\">\n",
              "      <th></th>\n",
              "      <th>Region Name</th>\n",
              "      <th>Vacancies Count</th>\n",
              "    </tr>\n",
              "  </thead>\n",
              "  <tbody>\n",
              "    <tr>\n",
              "      <th>0</th>\n",
              "      <td>Москва</td>\n",
              "      <td>5333</td>\n",
              "    </tr>\n",
              "    <tr>\n",
              "      <th>1</th>\n",
              "      <td>Санкт-Петербург</td>\n",
              "      <td>2851</td>\n",
              "    </tr>\n",
              "    <tr>\n",
              "      <th>2</th>\n",
              "      <td>Минск</td>\n",
              "      <td>2112</td>\n",
              "    </tr>\n",
              "    <tr>\n",
              "      <th>3</th>\n",
              "      <td>Новосибирск</td>\n",
              "      <td>2006</td>\n",
              "    </tr>\n",
              "    <tr>\n",
              "      <th>4</th>\n",
              "      <td>Алматы</td>\n",
              "      <td>1892</td>\n",
              "    </tr>\n",
              "  </tbody>\n",
              "</table>\n",
              "</div>"
            ],
            "text/plain": [
              "       Region Name  Vacancies Count\n",
              "0           Москва             5333\n",
              "1  Санкт-Петербург             2851\n",
              "2            Минск             2112\n",
              "3      Новосибирск             2006\n",
              "4           Алматы             1892"
            ]
          },
          "execution_count": 975,
          "metadata": {},
          "output_type": "execute_result"
        }
      ],
      "source": [
        "# выполняем SQL-запрос и сохраняем результат в DataFrame 'df'\n",
        "df = pd.read_sql_query(query_4_1, connection)\n",
        "df # отображаем содержимое DataFrame 'df'"
      ]
    },
    {
      "cell_type": "markdown",
      "id": "4266f0b6-1646-492a-88b4-2f6a46502135",
      "metadata": {
        "id": "4266f0b6-1646-492a-88b4-2f6a46502135"
      },
      "source": [
        "2. Напишите запрос, чтобы определить у какого количества вакансий заполнено хотя бы одно из двух полей с зарплатой."
      ]
    },
    {
      "cell_type": "code",
      "execution_count": 976,
      "id": "0c44b350-72eb-4d65-8b54-a1fc449ba9fd",
      "metadata": {
        "id": "0c44b350-72eb-4d65-8b54-a1fc449ba9fd"
      },
      "outputs": [],
      "source": [
        "query_4_2 = f'''\n",
        "-- Запрос для подсчета вакансий с указанными данными о зарплате\n",
        "SELECT COUNT(*) AS \"Total Vacancies with Salary Info\"\n",
        "FROM VACANCIES -- Таблица, содержащая информацию о вакансиях\n",
        "WHERE NOT (salary_from IS NULL AND salary_to IS NULL) -- Условие, что хотя бы одно поле зарплаты заполнено\n",
        "'''\n",
        "#В SQL логика оператора AND в условии WHERE NOT используется для выбора записей, \n",
        "#где оба условия в скобках должны быть истинными, чтобы вся конструкция стала ложной, и наоборот.\n",
        "#Это называется законом Де Моргана в булевой алгебре, который гласит, \n",
        "#что отрицание конъюнкции NOT (... AND ...) равно дизъюнкции отрицаний (... NOT OR ... NOT), и наоборот."
      ]
    },
    {
      "cell_type": "code",
      "execution_count": 977,
      "id": "rhvwaMDkoWTi",
      "metadata": {
        "id": "rhvwaMDkoWTi"
      },
      "outputs": [
        {
          "name": "stderr",
          "output_type": "stream",
          "text": [
            "C:\\Users\\Администратор\\AppData\\Local\\Temp\\ipykernel_14920\\3612891776.py:2: UserWarning:\n",
            "\n",
            "pandas only supports SQLAlchemy connectable (engine/connection) or database string URI or sqlite3 DBAPI2 connection. Other DBAPI2 objects are not tested. Please consider using SQLAlchemy.\n",
            "\n"
          ]
        },
        {
          "data": {
            "text/html": [
              "<div>\n",
              "<style scoped>\n",
              "    .dataframe tbody tr th:only-of-type {\n",
              "        vertical-align: middle;\n",
              "    }\n",
              "\n",
              "    .dataframe tbody tr th {\n",
              "        vertical-align: top;\n",
              "    }\n",
              "\n",
              "    .dataframe thead th {\n",
              "        text-align: right;\n",
              "    }\n",
              "</style>\n",
              "<table border=\"1\" class=\"dataframe\">\n",
              "  <thead>\n",
              "    <tr style=\"text-align: right;\">\n",
              "      <th></th>\n",
              "      <th>Total Vacancies with Salary Info</th>\n",
              "    </tr>\n",
              "  </thead>\n",
              "  <tbody>\n",
              "    <tr>\n",
              "      <th>0</th>\n",
              "      <td>24073</td>\n",
              "    </tr>\n",
              "  </tbody>\n",
              "</table>\n",
              "</div>"
            ],
            "text/plain": [
              "   Total Vacancies with Salary Info\n",
              "0                             24073"
            ]
          },
          "execution_count": 977,
          "metadata": {},
          "output_type": "execute_result"
        }
      ],
      "source": [
        "# выполняем SQL-запрос и сохраняем результат в DataFrame 'df'\n",
        "df = pd.read_sql_query(query_4_2, connection)\n",
        "df # отображаем содержимое DataFrame 'df'"
      ]
    },
    {
      "cell_type": "markdown",
      "id": "635c4d5d-f323-4c66-b428-50a088120aa0",
      "metadata": {
        "id": "635c4d5d-f323-4c66-b428-50a088120aa0"
      },
      "source": [
        "3. Найдите средние значения для нижней и верхней границы зарплатной вилки. Округлите значения до целого."
      ]
    },
    {
      "cell_type": "code",
      "execution_count": 978,
      "id": "603cdbe4-0ec3-4106-8eaf-c73fcdd29165",
      "metadata": {
        "id": "603cdbe4-0ec3-4106-8eaf-c73fcdd29165"
      },
      "outputs": [],
      "source": [
        "# текст запроса\n",
        "query_4_3 = f'''\n",
        "-- Определение средних значений зарплатных предложений\n",
        "SELECT \n",
        "    ROUND(AVG(salary_from), 0) AS \"Average_Min_Salary\", -- Округление средней минимальной зарплаты до ближайшего целого числа\n",
        "    ROUND(AVG(salary_to), 0) AS \"Average_Max_Salary\"    -- Округление средней максимальной зарплаты до ближайшего целого числа\n",
        "FROM VACANCIES -- Работа с данными из таблицы вакансий\n",
        "'''"
      ]
    },
    {
      "cell_type": "code",
      "execution_count": 979,
      "id": "pswpAb66ovZZ",
      "metadata": {
        "id": "pswpAb66ovZZ"
      },
      "outputs": [
        {
          "name": "stderr",
          "output_type": "stream",
          "text": [
            "C:\\Users\\Администратор\\AppData\\Local\\Temp\\ipykernel_14920\\2374954388.py:2: UserWarning:\n",
            "\n",
            "pandas only supports SQLAlchemy connectable (engine/connection) or database string URI or sqlite3 DBAPI2 connection. Other DBAPI2 objects are not tested. Please consider using SQLAlchemy.\n",
            "\n"
          ]
        },
        {
          "data": {
            "text/html": [
              "<div>\n",
              "<style scoped>\n",
              "    .dataframe tbody tr th:only-of-type {\n",
              "        vertical-align: middle;\n",
              "    }\n",
              "\n",
              "    .dataframe tbody tr th {\n",
              "        vertical-align: top;\n",
              "    }\n",
              "\n",
              "    .dataframe thead th {\n",
              "        text-align: right;\n",
              "    }\n",
              "</style>\n",
              "<table border=\"1\" class=\"dataframe\">\n",
              "  <thead>\n",
              "    <tr style=\"text-align: right;\">\n",
              "      <th></th>\n",
              "      <th>Average_Min_Salary</th>\n",
              "      <th>Average_Max_Salary</th>\n",
              "    </tr>\n",
              "  </thead>\n",
              "  <tbody>\n",
              "    <tr>\n",
              "      <th>0</th>\n",
              "      <td>71065.0</td>\n",
              "      <td>110537.0</td>\n",
              "    </tr>\n",
              "  </tbody>\n",
              "</table>\n",
              "</div>"
            ],
            "text/plain": [
              "   Average_Min_Salary  Average_Max_Salary\n",
              "0             71065.0            110537.0"
            ]
          },
          "execution_count": 979,
          "metadata": {},
          "output_type": "execute_result"
        }
      ],
      "source": [
        "# выполняем SQL-запрос и сохраняем результат в DataFrame 'df'\n",
        "df = pd.read_sql_query(query_4_3, connection)\n",
        "df # отображаем содержимое DataFrame 'df'"
      ]
    },
    {
      "cell_type": "markdown",
      "id": "f3fdaec9-5fd3-4260-9cf5-1d7406b628a5",
      "metadata": {
        "id": "f3fdaec9-5fd3-4260-9cf5-1d7406b628a5"
      },
      "source": [
        "4. Напишите запрос, который выведет количество вакансий для каждого сочетания типа рабочего графика (schedule) и типа трудоустройства (employment), используемого в вакансиях. Результат отсортируйте по убыванию количества.\n"
      ]
    },
    {
      "cell_type": "code",
      "execution_count": 980,
      "id": "1ea710ec-871b-431e-9462-c7d0fd87011b",
      "metadata": {
        "id": "1ea710ec-871b-431e-9462-c7d0fd87011b"
      },
      "outputs": [],
      "source": [
        "query_4_4 = f'''\n",
        "-- Запрос для определения количества вакансий по каждой комбинации графика работы и типа трудоустрйоства\n",
        "SELECT \n",
        "    v.schedule AS \"Work Schedule\", -- 'Work Schedule' - тип графика работы\n",
        "    v.employment AS \"Employment Type\", -- 'Employment Type' - форма занятости\n",
        "    COUNT(v.id) AS \"Vacancies Count\" -- 'Vacancies Count' - подсчет количества вакансий для каждой комбинации\n",
        "FROM \n",
        "    VACANCIES v -- 'VACANCIES' - таблица с данными о вакансиях\n",
        "GROUP BY \n",
        "    \"Work Schedule\", \"Employment Type\" -- Группировка по типу графика и форме занятости\n",
        "ORDER BY \n",
        "    \"Vacancies Count\" DESC -- Сортировка по убыванию количества вакансий\n",
        "OFFSET \n",
        "    1 -- Пропуск первой строки в списке\n",
        "LIMIT \n",
        "    1 -- Вывод только одной строки\n",
        "'''"
      ]
    },
    {
      "cell_type": "code",
      "execution_count": 981,
      "id": "lGUVqavdo4JQ",
      "metadata": {
        "id": "lGUVqavdo4JQ"
      },
      "outputs": [
        {
          "name": "stderr",
          "output_type": "stream",
          "text": [
            "C:\\Users\\Администратор\\AppData\\Local\\Temp\\ipykernel_14920\\481693114.py:2: UserWarning:\n",
            "\n",
            "pandas only supports SQLAlchemy connectable (engine/connection) or database string URI or sqlite3 DBAPI2 connection. Other DBAPI2 objects are not tested. Please consider using SQLAlchemy.\n",
            "\n"
          ]
        },
        {
          "data": {
            "text/html": [
              "<div>\n",
              "<style scoped>\n",
              "    .dataframe tbody tr th:only-of-type {\n",
              "        vertical-align: middle;\n",
              "    }\n",
              "\n",
              "    .dataframe tbody tr th {\n",
              "        vertical-align: top;\n",
              "    }\n",
              "\n",
              "    .dataframe thead th {\n",
              "        text-align: right;\n",
              "    }\n",
              "</style>\n",
              "<table border=\"1\" class=\"dataframe\">\n",
              "  <thead>\n",
              "    <tr style=\"text-align: right;\">\n",
              "      <th></th>\n",
              "      <th>Work Schedule</th>\n",
              "      <th>Employment Type</th>\n",
              "      <th>Vacancies Count</th>\n",
              "    </tr>\n",
              "  </thead>\n",
              "  <tbody>\n",
              "    <tr>\n",
              "      <th>0</th>\n",
              "      <td>Удаленная работа</td>\n",
              "      <td>Полная занятость</td>\n",
              "      <td>7802</td>\n",
              "    </tr>\n",
              "  </tbody>\n",
              "</table>\n",
              "</div>"
            ],
            "text/plain": [
              "      Work Schedule   Employment Type  Vacancies Count\n",
              "0  Удаленная работа  Полная занятость             7802"
            ]
          },
          "execution_count": 981,
          "metadata": {},
          "output_type": "execute_result"
        }
      ],
      "source": [
        "# выполняем SQL-запрос и сохраняем результат в DataFrame 'df'\n",
        "df = pd.read_sql_query(query_4_4, connection)\n",
        "df # отображаем содержимое DataFrame 'df'"
      ]
    },
    {
      "cell_type": "markdown",
      "id": "0136ffee-0ead-4a6b-b608-61d1c753a438",
      "metadata": {
        "id": "0136ffee-0ead-4a6b-b608-61d1c753a438"
      },
      "source": [
        "5. Напишите запрос, выводящий значения поля Требуемый опыт работы (experience) в порядке возрастания количества вакансий, в которых указан данный вариант опыта. "
      ]
    },
    {
      "cell_type": "code",
      "execution_count": 982,
      "id": "5b3a8e79-f7ab-4008-b767-12aea3a205ea",
      "metadata": {
        "id": "5b3a8e79-f7ab-4008-b767-12aea3a205ea"
      },
      "outputs": [],
      "source": [
        "# текст запроса\n",
        "query_4_5 = f'''\n",
        "-- Получаем требуемый опыт работы и соответствующее количество вакансий\n",
        "SELECT \n",
        "    experience AS \"Experience\", -- 'Требуемый опыт работы' для каждой вакансии\n",
        "    COUNT(*) AS \"VacanciesCount\"        -- 'Количество вакансий' с таким опытом\n",
        "\n",
        "-- Делаем выборку из таблицы с вакансиями\n",
        "FROM \n",
        "    VACANCIES                           -- Таблица 'vacancies' содержит данные о вакансиях\n",
        "\n",
        "-- Группировка данных по опыту работы\n",
        "GROUP BY \n",
        "    experience                          -- Группировка по 'experience' для агрегации данных\n",
        "\n",
        "-- Упорядочивание результатов по количеству вакансий в порядке увеличения\n",
        "ORDER BY \n",
        "    \"VacanciesCount\" ASC;               -- Сортировка по возрастанию 'VacanciesCount\n",
        "'''"
      ]
    },
    {
      "cell_type": "code",
      "execution_count": 983,
      "id": "3Is64Y-hpDpq",
      "metadata": {
        "id": "3Is64Y-hpDpq"
      },
      "outputs": [
        {
          "name": "stderr",
          "output_type": "stream",
          "text": [
            "C:\\Users\\Администратор\\AppData\\Local\\Temp\\ipykernel_14920\\2298421073.py:2: UserWarning:\n",
            "\n",
            "pandas only supports SQLAlchemy connectable (engine/connection) or database string URI or sqlite3 DBAPI2 connection. Other DBAPI2 objects are not tested. Please consider using SQLAlchemy.\n",
            "\n"
          ]
        },
        {
          "data": {
            "text/html": [
              "<div>\n",
              "<style scoped>\n",
              "    .dataframe tbody tr th:only-of-type {\n",
              "        vertical-align: middle;\n",
              "    }\n",
              "\n",
              "    .dataframe tbody tr th {\n",
              "        vertical-align: top;\n",
              "    }\n",
              "\n",
              "    .dataframe thead th {\n",
              "        text-align: right;\n",
              "    }\n",
              "</style>\n",
              "<table border=\"1\" class=\"dataframe\">\n",
              "  <thead>\n",
              "    <tr style=\"text-align: right;\">\n",
              "      <th></th>\n",
              "      <th>Experience</th>\n",
              "      <th>VacanciesCount</th>\n",
              "    </tr>\n",
              "  </thead>\n",
              "  <tbody>\n",
              "    <tr>\n",
              "      <th>0</th>\n",
              "      <td>Более 6 лет</td>\n",
              "      <td>1337</td>\n",
              "    </tr>\n",
              "    <tr>\n",
              "      <th>1</th>\n",
              "      <td>Нет опыта</td>\n",
              "      <td>7197</td>\n",
              "    </tr>\n",
              "    <tr>\n",
              "      <th>2</th>\n",
              "      <td>От 3 до 6 лет</td>\n",
              "      <td>14511</td>\n",
              "    </tr>\n",
              "    <tr>\n",
              "      <th>3</th>\n",
              "      <td>От 1 года до 3 лет</td>\n",
              "      <td>26152</td>\n",
              "    </tr>\n",
              "  </tbody>\n",
              "</table>\n",
              "</div>"
            ],
            "text/plain": [
              "           Experience  VacanciesCount\n",
              "0         Более 6 лет            1337\n",
              "1           Нет опыта            7197\n",
              "2       От 3 до 6 лет           14511\n",
              "3  От 1 года до 3 лет           26152"
            ]
          },
          "execution_count": 983,
          "metadata": {},
          "output_type": "execute_result"
        }
      ],
      "source": [
        "# выполняем SQL-запрос и сохраняем результат в DataFrame 'df'\n",
        "df_4_5 = pd.read_sql_query(query_4_5, connection)\n",
        "df_4_5 # отображаем содержимое DataFrame 'df'"
      ]
    },
    {
      "cell_type": "markdown",
      "id": "oq2b7n1QpIka",
      "metadata": {
        "id": "oq2b7n1QpIka"
      },
      "source": [
        "***"
      ]
    },
    {
      "cell_type": "markdown",
      "id": "5462a236",
      "metadata": {},
      "source": [
        "**Выводы детального анализа вакансий**: \n",
        "\n",
        "1. Региональный распределение вакансий:\n",
        "Москва лидирует с 5333 вакансиями, что может быть связано с её статусом экономического и политического центра России.  \n",
        "Санкт-Петербург следует за Москвой с 2851 вакансиями, подтверждая его значимость как крупного культурного и промышленного города.  \n",
        "Минск, Новосибирск и Алматы также показывают высокое количество вакансий, что может отражать растущую экономическую активность в этих регионах.  \n",
        "\n",
        "2. Вакансии с информацией о зарплате:  \n",
        "Из 24073 вакансий, информация о зарплате указана хотя бы в одном поле, что может свидетельствовать о тенденции работодателей быть более открытыми в вопросах оплаты труда.  \n",
        "\n",
        "3. Средние значения зарплат:  \n",
        "Средняя минимальная зарплата составляет 71065 рублей, а средняя максимальная — 110537 рублей. Это различие может указывать на широкий диапазон возможностей для соискателей с разным уровнем квалификации и опыта. \n",
        "\n",
        "4. Типы рабочего графика и трудоустройства:  \n",
        "Наибольшее количество вакансий (7802) предлагается для удаленной работы с полной занятостью, что может отражать текущие тенденции рынка труда и желание работников иметь гибкий график.  \n",
        "\n",
        "5. Требуемый опыт работы:  \n",
        "Большинство вакансий (26152) требуют от 1 года до 3 лет опыта, что может свидетельствовать о потребности рынка в молодых специалистах, готовых к обучению и развитию.  \n",
        "Гипотезы и предложения:  \n",
        "\n",
        "Работодатели могут увеличить привлекательность вакансий, предлагая более конкурентоспособные зарплаты и гибкие условия труда.  \n",
        "Увеличение количества вакансий с требованием “нет опыта” может способствовать снижению безработицы среди молодежи.  \n",
        "Рынок труда демонстрирует рост в крупных городах с развитой инфраструктурой и экономикой. Тенденция к удаленной работе и гибким условиям труда становится все более заметной, а спрос на молодых специалистов подчеркивает важность инвестиций в образование и профессиональное развитие."
      ]
    },
    {
      "cell_type": "markdown",
      "id": "7ea20ab6-04a7-40a0-adec-443a0e5a42c3",
      "metadata": {
        "id": "7ea20ab6-04a7-40a0-adec-443a0e5a42c3"
      },
      "source": [
        "# Юнит 5. Анализ работодателей"
      ]
    },
    {
      "cell_type": "markdown",
      "id": "968aed80-74ef-4ffb-b5bf-c65b84e9caea",
      "metadata": {
        "id": "968aed80-74ef-4ffb-b5bf-c65b84e9caea"
      },
      "source": [
        "1. Напишите запрос, который позволит узнать, какие работодатели находятся на первом и пятом месте по количеству вакансий."
      ]
    },
    {
      "cell_type": "code",
      "execution_count": 984,
      "id": "f2d62796-d400-4ec1-a675-88112739a50e",
      "metadata": {
        "id": "f2d62796-d400-4ec1-a675-88112739a50e"
      },
      "outputs": [],
      "source": [
        "query_5_1 = f'''\n",
        "-- Создаем рейтинг работодателей по количеству предложений работы\n",
        "WITH EmployerRanking AS (\n",
        "    SELECT \n",
        "        e.name AS \"EmployerName\", -- 'EmployerName' - название фирмы\n",
        "        COUNT(v.id) AS \"TotalVacancies\", -- 'TotalVacancies' - всего вакансий\n",
        "        DENSE_RANK() OVER (ORDER BY COUNT(v.id) DESC) AS \"Position\" -- 'Position' - место по количеству вакансий\n",
        "    FROM VACANCIES v -- 'VACANCIES' - таблица с объявлениями о работе\n",
        "    JOIN EMPLOYERS e ON e.id = v.employer_id -- соединяем с таблицей работодателей\n",
        "    GROUP BY e.name -- группируем по названию компании\n",
        ")\n",
        "-- Получаем информацию о работодателях, занимающих первое и пятое места\n",
        "SELECT \"EmployerName\", \"TotalVacancies\"\n",
        "FROM EmployerRanking\n",
        "WHERE \"Position\" IN (1, 5) -- выбираем первое и пятое места\n",
        "'''"
      ]
    },
    {
      "cell_type": "code",
      "execution_count": 985,
      "id": "64tOMkAxqkQk",
      "metadata": {
        "id": "64tOMkAxqkQk"
      },
      "outputs": [
        {
          "name": "stderr",
          "output_type": "stream",
          "text": [
            "C:\\Users\\Администратор\\AppData\\Local\\Temp\\ipykernel_14920\\1914783865.py:2: UserWarning:\n",
            "\n",
            "pandas only supports SQLAlchemy connectable (engine/connection) or database string URI or sqlite3 DBAPI2 connection. Other DBAPI2 objects are not tested. Please consider using SQLAlchemy.\n",
            "\n"
          ]
        },
        {
          "data": {
            "text/html": [
              "<div>\n",
              "<style scoped>\n",
              "    .dataframe tbody tr th:only-of-type {\n",
              "        vertical-align: middle;\n",
              "    }\n",
              "\n",
              "    .dataframe tbody tr th {\n",
              "        vertical-align: top;\n",
              "    }\n",
              "\n",
              "    .dataframe thead th {\n",
              "        text-align: right;\n",
              "    }\n",
              "</style>\n",
              "<table border=\"1\" class=\"dataframe\">\n",
              "  <thead>\n",
              "    <tr style=\"text-align: right;\">\n",
              "      <th></th>\n",
              "      <th>EmployerName</th>\n",
              "      <th>TotalVacancies</th>\n",
              "    </tr>\n",
              "  </thead>\n",
              "  <tbody>\n",
              "    <tr>\n",
              "      <th>0</th>\n",
              "      <td>Яндекс</td>\n",
              "      <td>1933</td>\n",
              "    </tr>\n",
              "    <tr>\n",
              "      <th>1</th>\n",
              "      <td>Газпром нефть</td>\n",
              "      <td>331</td>\n",
              "    </tr>\n",
              "  </tbody>\n",
              "</table>\n",
              "</div>"
            ],
            "text/plain": [
              "    EmployerName  TotalVacancies\n",
              "0         Яндекс            1933\n",
              "1  Газпром нефть             331"
            ]
          },
          "execution_count": 985,
          "metadata": {},
          "output_type": "execute_result"
        }
      ],
      "source": [
        "# выполняем SQL-запрос и сохраняем результат в DataFrame 'df'\n",
        "df = pd.read_sql_query(query_5_1, connection)\n",
        "df # отображаем содержимое DataFrame 'df'"
      ]
    },
    {
      "cell_type": "markdown",
      "id": "68377cfc-b378-43dc-ab7d-1195abf2c515",
      "metadata": {
        "id": "68377cfc-b378-43dc-ab7d-1195abf2c515"
      },
      "source": [
        "2. Напишите запрос, который для каждого региона выведет количество работодателей и вакансий в нём.\n",
        "Среди регионов, в которых нет вакансий, найдите тот, в котором наибольшее количество работодателей.\n"
      ]
    },
    {
      "cell_type": "code",
      "execution_count": 986,
      "id": "dd7df27a-e3e8-412e-a21a-5d389b71e891",
      "metadata": {
        "id": "dd7df27a-e3e8-412e-a21a-5d389b71e891"
      },
      "outputs": [],
      "source": [
        "query_5_2 = f'''\n",
        "-- Определяем статистику по работодателям и вакансиям для каждого региона\n",
        "SELECT \n",
        "    a.name AS \"RegionName\", -- 'RegionName' - идентификатор региона\n",
        "    COUNT(DISTINCT e.id) AS \"EmployersCount\", -- 'EmployersCount' - число работодателей в регионе\n",
        "    COUNT(DISTINCT v.id) AS \"VacanciesCount\" -- 'VacanciesCount' - число вакансий в регионе\n",
        "FROM AREAS a\n",
        "LEFT JOIN VACANCIES v ON v.area_id = a.id -- Связываем регионы с вакансиями\n",
        "LEFT JOIN EMPLOYERS e ON e.area = a.id -- Связываем регионы с работодателями\n",
        "WHERE v.id is NULL -- Фильтрация регионов, где нет вакансий\n",
        "GROUP BY a.name -- Группировка данных по названию региона\n",
        "ORDER BY \"EmployersCount\" DESC -- Сортируем данные сначала по числу работодателей\n",
        "LIMIT 1 -- Выводим только регион с наибольшим числом работодателей, где нет вакансий\n",
        "'''"
      ]
    },
    {
      "cell_type": "code",
      "execution_count": 987,
      "id": "x1ikWbydrbf6",
      "metadata": {
        "id": "x1ikWbydrbf6"
      },
      "outputs": [
        {
          "name": "stderr",
          "output_type": "stream",
          "text": [
            "C:\\Users\\Администратор\\AppData\\Local\\Temp\\ipykernel_14920\\204662484.py:2: UserWarning:\n",
            "\n",
            "pandas only supports SQLAlchemy connectable (engine/connection) or database string URI or sqlite3 DBAPI2 connection. Other DBAPI2 objects are not tested. Please consider using SQLAlchemy.\n",
            "\n"
          ]
        },
        {
          "data": {
            "text/html": [
              "<div>\n",
              "<style scoped>\n",
              "    .dataframe tbody tr th:only-of-type {\n",
              "        vertical-align: middle;\n",
              "    }\n",
              "\n",
              "    .dataframe tbody tr th {\n",
              "        vertical-align: top;\n",
              "    }\n",
              "\n",
              "    .dataframe thead th {\n",
              "        text-align: right;\n",
              "    }\n",
              "</style>\n",
              "<table border=\"1\" class=\"dataframe\">\n",
              "  <thead>\n",
              "    <tr style=\"text-align: right;\">\n",
              "      <th></th>\n",
              "      <th>RegionName</th>\n",
              "      <th>EmployersCount</th>\n",
              "      <th>VacanciesCount</th>\n",
              "    </tr>\n",
              "  </thead>\n",
              "  <tbody>\n",
              "    <tr>\n",
              "      <th>0</th>\n",
              "      <td>Россия</td>\n",
              "      <td>410</td>\n",
              "      <td>0</td>\n",
              "    </tr>\n",
              "  </tbody>\n",
              "</table>\n",
              "</div>"
            ],
            "text/plain": [
              "  RegionName  EmployersCount  VacanciesCount\n",
              "0     Россия             410               0"
            ]
          },
          "execution_count": 987,
          "metadata": {},
          "output_type": "execute_result"
        }
      ],
      "source": [
        "# выполняем SQL-запрос и сохраняем результат в DataFrame 'df'\n",
        "df = pd.read_sql_query(query_5_2, connection)\n",
        "df # отображаем содержимое DataFrame 'df'"
      ]
    },
    {
      "cell_type": "markdown",
      "id": "f2fe0acb-ab1a-4e15-9326-2560e22d73c1",
      "metadata": {
        "id": "f2fe0acb-ab1a-4e15-9326-2560e22d73c1"
      },
      "source": [
        "3. Для каждого работодателя посчитайте количество регионов, в которых он публикует свои вакансии. Отсортируйте результат по убыванию количества.\n"
      ]
    },
    {
      "cell_type": "code",
      "execution_count": 988,
      "id": "6271f8ad-bd2e-4196-ae4a-5b39c4c1010e",
      "metadata": {
        "id": "6271f8ad-bd2e-4196-ae4a-5b39c4c1010e"
      },
      "outputs": [],
      "source": [
        "query_5_3 = f'''\n",
        "-- Вычисляем распределение работодателей по регионам\n",
        "SELECT \n",
        "    employer_id AS \"EmployerID\", -- 'EmployerID' - уникальный номер работодателя\n",
        "    COUNT(DISTINCT area_id) AS \"RegionsCount\" -- 'RegionsCount' - число регионов с вакансиями\n",
        "FROM \n",
        "    VACANCIES -- 'VACANCIES' - таблица, содержащая данные о вакансиях\n",
        "GROUP BY \n",
        "    \"EmployerID\" -- Группировка по идентификатору работодателя\n",
        "ORDER BY \n",
        "    \"RegionsCount\" DESC -- Сортировка по количеству регионов в убывающем порядке\n",
        "LIMIT \n",
        "    1 -- Выводим только верхнюю запись\n",
        "'''"
      ]
    },
    {
      "cell_type": "code",
      "execution_count": 989,
      "id": "1EIvX3HasH4F",
      "metadata": {
        "id": "1EIvX3HasH4F"
      },
      "outputs": [
        {
          "name": "stderr",
          "output_type": "stream",
          "text": [
            "C:\\Users\\Администратор\\AppData\\Local\\Temp\\ipykernel_14920\\2536702449.py:2: UserWarning:\n",
            "\n",
            "pandas only supports SQLAlchemy connectable (engine/connection) or database string URI or sqlite3 DBAPI2 connection. Other DBAPI2 objects are not tested. Please consider using SQLAlchemy.\n",
            "\n"
          ]
        },
        {
          "data": {
            "text/html": [
              "<div>\n",
              "<style scoped>\n",
              "    .dataframe tbody tr th:only-of-type {\n",
              "        vertical-align: middle;\n",
              "    }\n",
              "\n",
              "    .dataframe tbody tr th {\n",
              "        vertical-align: top;\n",
              "    }\n",
              "\n",
              "    .dataframe thead th {\n",
              "        text-align: right;\n",
              "    }\n",
              "</style>\n",
              "<table border=\"1\" class=\"dataframe\">\n",
              "  <thead>\n",
              "    <tr style=\"text-align: right;\">\n",
              "      <th></th>\n",
              "      <th>EmployerID</th>\n",
              "      <th>RegionsCount</th>\n",
              "    </tr>\n",
              "  </thead>\n",
              "  <tbody>\n",
              "    <tr>\n",
              "      <th>0</th>\n",
              "      <td>1740</td>\n",
              "      <td>181</td>\n",
              "    </tr>\n",
              "  </tbody>\n",
              "</table>\n",
              "</div>"
            ],
            "text/plain": [
              "   EmployerID  RegionsCount\n",
              "0        1740           181"
            ]
          },
          "execution_count": 989,
          "metadata": {},
          "output_type": "execute_result"
        }
      ],
      "source": [
        "# выполняем SQL-запрос и сохраняем результат в DataFrame 'df'\n",
        "df = pd.read_sql_query(query_5_3, connection)\n",
        "df # отображаем содержимое DataFrame 'df'"
      ]
    },
    {
      "cell_type": "markdown",
      "id": "eab2206d-d95b-468b-8e5f-34381abf0ce7",
      "metadata": {
        "id": "eab2206d-d95b-468b-8e5f-34381abf0ce7"
      },
      "source": [
        "4. Напишите запрос для подсчёта количества работодателей, у которых не указана сфера деятельности. "
      ]
    },
    {
      "cell_type": "code",
      "execution_count": 990,
      "id": "80defb23-bfb1-4a18-8be6-bf36aa7165d5",
      "metadata": {
        "id": "80defb23-bfb1-4a18-8be6-bf36aa7165d5"
      },
      "outputs": [],
      "source": [
        "query_5_4 = f'''\n",
        "-- Рассчитываем число компаний без указания сферы деятельности\n",
        "SELECT \n",
        "    COUNT(*) AS \"EmployersWithoutIndustry\" -- 'EmployersWithoutIndustry' - количество работодателей без сферы деятельности\n",
        "FROM \n",
        "    EMPLOYERS e -- 'EMPLOYERS' - таблица, содержащая информацию о работодателях\n",
        "LEFT JOIN \n",
        "    EMPLOYERS_INDUSTRIES ei ON e.id = ei.employer_id -- связываем данные о работодателях с их отраслями\n",
        "WHERE \n",
        "    ei.industry_id IS NULL -- фильтруем работодателей, у которых не указана отрасль\n",
        "'''"
      ]
    },
    {
      "cell_type": "code",
      "execution_count": 991,
      "id": "Dp_yCx6ysQSu",
      "metadata": {
        "id": "Dp_yCx6ysQSu"
      },
      "outputs": [
        {
          "name": "stderr",
          "output_type": "stream",
          "text": [
            "C:\\Users\\Администратор\\AppData\\Local\\Temp\\ipykernel_14920\\4162815337.py:2: UserWarning:\n",
            "\n",
            "pandas only supports SQLAlchemy connectable (engine/connection) or database string URI or sqlite3 DBAPI2 connection. Other DBAPI2 objects are not tested. Please consider using SQLAlchemy.\n",
            "\n"
          ]
        },
        {
          "data": {
            "text/html": [
              "<div>\n",
              "<style scoped>\n",
              "    .dataframe tbody tr th:only-of-type {\n",
              "        vertical-align: middle;\n",
              "    }\n",
              "\n",
              "    .dataframe tbody tr th {\n",
              "        vertical-align: top;\n",
              "    }\n",
              "\n",
              "    .dataframe thead th {\n",
              "        text-align: right;\n",
              "    }\n",
              "</style>\n",
              "<table border=\"1\" class=\"dataframe\">\n",
              "  <thead>\n",
              "    <tr style=\"text-align: right;\">\n",
              "      <th></th>\n",
              "      <th>EmployersWithoutIndustry</th>\n",
              "    </tr>\n",
              "  </thead>\n",
              "  <tbody>\n",
              "    <tr>\n",
              "      <th>0</th>\n",
              "      <td>8419</td>\n",
              "    </tr>\n",
              "  </tbody>\n",
              "</table>\n",
              "</div>"
            ],
            "text/plain": [
              "   EmployersWithoutIndustry\n",
              "0                      8419"
            ]
          },
          "execution_count": 991,
          "metadata": {},
          "output_type": "execute_result"
        }
      ],
      "source": [
        "# выполняем SQL-запрос и сохраняем результат в DataFrame 'df'\n",
        "df = pd.read_sql_query(query_5_4, connection)\n",
        "df # отображаем содержимое DataFrame 'df'"
      ]
    },
    {
      "cell_type": "markdown",
      "id": "0112af31-f6b0-4e3b-82ab-71296e752e5e",
      "metadata": {
        "id": "0112af31-f6b0-4e3b-82ab-71296e752e5e"
      },
      "source": [
        "5. Напишите запрос, чтобы узнать название компании, находящейся на третьем месте в алфавитном списке (по названию) компаний, у которых указано четыре сферы деятельности. "
      ]
    },
    {
      "cell_type": "code",
      "execution_count": 992,
      "id": "973b0cfc-a972-470a-8b4a-68744ef220c4",
      "metadata": {
        "id": "973b0cfc-a972-470a-8b4a-68744ef220c4"
      },
      "outputs": [],
      "source": [
        "query_5_5 = f'''\n",
        "-- Определяем компании с четырьмя сферами деятельности и их позицию в алфавитном списке\n",
        "SELECT \n",
        "    e.name AS \"CompanyName\" -- 'CompanyName' - название компании\n",
        "FROM \n",
        "    EMPLOYERS e\n",
        "JOIN (\n",
        "    -- Фильтруем компании по количеству сфер деятельности\n",
        "    SELECT \n",
        "        employer_id\n",
        "    FROM \n",
        "        EMPLOYERS_INDUSTRIES\n",
        "    GROUP BY \n",
        "        employer_id\n",
        "    HAVING \n",
        "        COUNT(industry_id) = 4 -- Выбираем компании с четырьмя отраслями\n",
        ") AS FilteredEmployers ON e.id = FilteredEmployers.employer_id\n",
        "ORDER BY \n",
        "    \"CompanyName\" -- Сортировка компаний по алфавиту\n",
        "LIMIT \n",
        "    1 OFFSET 2 -- Пропускаем две компании для получения третьей в списке\n",
        "'''"
      ]
    },
    {
      "cell_type": "code",
      "execution_count": 993,
      "id": "xsPtpp8EsaED",
      "metadata": {
        "id": "xsPtpp8EsaED"
      },
      "outputs": [
        {
          "name": "stderr",
          "output_type": "stream",
          "text": [
            "C:\\Users\\Администратор\\AppData\\Local\\Temp\\ipykernel_14920\\3502007031.py:2: UserWarning:\n",
            "\n",
            "pandas only supports SQLAlchemy connectable (engine/connection) or database string URI or sqlite3 DBAPI2 connection. Other DBAPI2 objects are not tested. Please consider using SQLAlchemy.\n",
            "\n"
          ]
        },
        {
          "data": {
            "text/html": [
              "<div>\n",
              "<style scoped>\n",
              "    .dataframe tbody tr th:only-of-type {\n",
              "        vertical-align: middle;\n",
              "    }\n",
              "\n",
              "    .dataframe tbody tr th {\n",
              "        vertical-align: top;\n",
              "    }\n",
              "\n",
              "    .dataframe thead th {\n",
              "        text-align: right;\n",
              "    }\n",
              "</style>\n",
              "<table border=\"1\" class=\"dataframe\">\n",
              "  <thead>\n",
              "    <tr style=\"text-align: right;\">\n",
              "      <th></th>\n",
              "      <th>CompanyName</th>\n",
              "    </tr>\n",
              "  </thead>\n",
              "  <tbody>\n",
              "    <tr>\n",
              "      <th>0</th>\n",
              "      <td>2ГИС</td>\n",
              "    </tr>\n",
              "  </tbody>\n",
              "</table>\n",
              "</div>"
            ],
            "text/plain": [
              "  CompanyName\n",
              "0        2ГИС"
            ]
          },
          "execution_count": 993,
          "metadata": {},
          "output_type": "execute_result"
        }
      ],
      "source": [
        "# выполняем SQL-запрос и сохраняем результат в DataFrame 'df'\n",
        "df = pd.read_sql_query(query_5_5, connection)\n",
        "df # отображаем содержимое DataFrame 'df'"
      ]
    },
    {
      "cell_type": "markdown",
      "id": "3bfcfdaf-755d-4d2b-8ed8-326201dc07ab",
      "metadata": {
        "id": "3bfcfdaf-755d-4d2b-8ed8-326201dc07ab"
      },
      "source": [
        "6. С помощью запроса выясните, у какого количества работодателей в качестве сферы деятельности указана Разработка программного обеспечения.\n"
      ]
    },
    {
      "cell_type": "code",
      "execution_count": 994,
      "id": "ad3f270f-2991-47eb-929b-e8f88a55b0d1",
      "metadata": {
        "id": "ad3f270f-2991-47eb-929b-e8f88a55b0d1"
      },
      "outputs": [],
      "source": [
        "query_5_6 = f'''\n",
        "-- Определяем количество компаний, работающих в области IT\n",
        "SELECT \n",
        "    COUNT(*) AS \"SoftwareDevEmployers\" -- 'SoftwareDevEmployers' - число работодателей в IT\n",
        "FROM \n",
        "    EMPLOYERS_INDUSTRIES ei -- 'EMPLOYERS_INDUSTRIES' - таблица отношений работодателей и индустрий\n",
        "WHERE \n",
        "    EXISTS ( -- Проверяем наличие записей\n",
        "        SELECT 1\n",
        "        FROM INDUSTRIES i -- 'INDUSTRIES' - таблица индустрий\n",
        "        WHERE \n",
        "            i.id = ei.industry_id -- Сопоставляем индустрии с работодателями\n",
        "            AND i.name = 'Разработка программного обеспечения' -- Фильтруем по названию индустрии\n",
        "    )\n",
        "'''"
      ]
    },
    {
      "cell_type": "code",
      "execution_count": 995,
      "id": "H72qxWM0shPR",
      "metadata": {
        "id": "H72qxWM0shPR"
      },
      "outputs": [
        {
          "name": "stderr",
          "output_type": "stream",
          "text": [
            "C:\\Users\\Администратор\\AppData\\Local\\Temp\\ipykernel_14920\\1993108486.py:2: UserWarning:\n",
            "\n",
            "pandas only supports SQLAlchemy connectable (engine/connection) or database string URI or sqlite3 DBAPI2 connection. Other DBAPI2 objects are not tested. Please consider using SQLAlchemy.\n",
            "\n"
          ]
        },
        {
          "data": {
            "text/html": [
              "<div>\n",
              "<style scoped>\n",
              "    .dataframe tbody tr th:only-of-type {\n",
              "        vertical-align: middle;\n",
              "    }\n",
              "\n",
              "    .dataframe tbody tr th {\n",
              "        vertical-align: top;\n",
              "    }\n",
              "\n",
              "    .dataframe thead th {\n",
              "        text-align: right;\n",
              "    }\n",
              "</style>\n",
              "<table border=\"1\" class=\"dataframe\">\n",
              "  <thead>\n",
              "    <tr style=\"text-align: right;\">\n",
              "      <th></th>\n",
              "      <th>SoftwareDevEmployers</th>\n",
              "    </tr>\n",
              "  </thead>\n",
              "  <tbody>\n",
              "    <tr>\n",
              "      <th>0</th>\n",
              "      <td>3553</td>\n",
              "    </tr>\n",
              "  </tbody>\n",
              "</table>\n",
              "</div>"
            ],
            "text/plain": [
              "   SoftwareDevEmployers\n",
              "0                  3553"
            ]
          },
          "execution_count": 995,
          "metadata": {},
          "output_type": "execute_result"
        }
      ],
      "source": [
        "# выполняем SQL-запрос и сохраняем результат в DataFrame 'df'\n",
        "df = pd.read_sql_query(query_5_6, connection)\n",
        "df # отображаем содержимое DataFrame 'df'"
      ]
    },
    {
      "cell_type": "markdown",
      "id": "7b02bb86-0546-40fb-94a4-242f050a5c57",
      "metadata": {
        "id": "7b02bb86-0546-40fb-94a4-242f050a5c57"
      },
      "source": [
        "7. Для компании «Яндекс» выведите список регионов-миллионников, в которых представлены вакансии компании, вместе с количеством вакансий в этих регионах. Также добавьте строку Total с общим количеством вакансий компании. Результат отсортируйте по возрастанию количества.\n",
        "\n",
        "Список городов-милионников надо взять [отсюда](https://ru.wikipedia.org/wiki/%D0%93%D0%BE%D1%80%D0%BE%D0%B4%D0%B0-%D0%BC%D0%B8%D0%BB%D0%BB%D0%B8%D0%BE%D0%BD%D0%B5%D1%80%D1%8B_%D0%A0%D0%BE%D1%81%D1%81%D0%B8%D0%B8). \n",
        "\n",
        "Если возникнут трудности с этим задание посмотрите материалы модуля  PYTHON-17. Как получать данные из веб-источников и API. "
      ]
    },
    {
      "cell_type": "code",
      "execution_count": 996,
      "id": "ZdfrL6gIs1Pn",
      "metadata": {
        "id": "ZdfrL6gIs1Pn"
      },
      "outputs": [],
      "source": [
        "# Импортируем необходимые библиотеки\n",
        "import requests\n",
        "from bs4 import BeautifulSoup\n",
        "\n",
        "# Указываем URL страницы Википедии с городами-миллионерами России\n",
        "url = 'https://ru.wikipedia.org/wiki/Города-миллионеры_России'\n",
        "# Отправляем GET-запрос на URL\n",
        "response = requests.get(url)\n",
        "# Парсим полученную страницу с помощью BeautifulSoup\n",
        "page = BeautifulSoup(response.text, 'html.parser')\n",
        "# Ищем таблицу с классом \"standard\" и преобразуем её в строку\n",
        "cities_data = str(page.find('table', class_=\"standard\"))\n",
        "# Разделяем строку по атрибуту 'title=\"' и берем все элементы начиная с третьего\n",
        "cities_data = cities_data.split('title=\"')[3:]\n",
        "\n",
        "# Создаем пустой список для хранения названий городов\n",
        "cities_list = []\n",
        "# Проходимся по каждому элементу в списке cities_data\n",
        "for city_info in cities_data:\n",
        "    # Добавляем в список cities_list название города, разделив строку по '\">'\n",
        "    cities_list.append(city_info.split('\">')[0])\n",
        "# Преобразуем список городов в кортеж\n",
        "cities_tuple = tuple(cities_list)\n"
      ]
    },
    {
      "cell_type": "code",
      "execution_count": 997,
      "id": "5a0e32a4-e68a-4365-8a39-2fe24c542c36",
      "metadata": {
        "id": "5a0e32a4-e68a-4365-8a39-2fe24c542c36"
      },
      "outputs": [],
      "source": [
        "query_5_7 = f'''\n",
        "-- Создаем временную таблицу с ранжированием работодателей\n",
        "WITH RankedEmployers AS (\n",
        "    -- Выбираем имя региона и количество вакансий\n",
        "    SELECT a.name AS AreaName,\n",
        "           COUNT(*) AS VacanciesCount\n",
        "    -- Присоединяем таблицы работодателей и вакансий\n",
        "    FROM employers e\n",
        "    JOIN vacancies v ON e.id = v.employer_id\n",
        "    -- Присоединяем таблицу регионов\n",
        "    JOIN areas a ON a.id = v.area_id\n",
        "    -- Условие фильтрации по имени работодателя и вхождению региона в кортеж городов\n",
        "    WHERE e.name = 'Яндекс'\n",
        "          AND a.name IN {cities_tuple}\n",
        "    -- Группируем результаты по идентификатору региона\n",
        "    GROUP BY a.id\n",
        ")\n",
        "-- Выбираем имя региона и количество вакансий из временной таблицы\n",
        "SELECT AreaName, \n",
        "       VacanciesCount\n",
        "FROM RankedEmployers\n",
        "-- Добавляем к результату общее количество вакансий\n",
        "UNION ALL\n",
        "-- Выбираем лейбл 'Total' и сумму количества вакансий\n",
        "SELECT 'Total' AS TotalLabel, \n",
        "       SUM(VacanciesCount) AS TotalCount\n",
        "FROM RankedEmployers\n",
        "'''"
      ]
    },
    {
      "cell_type": "code",
      "execution_count": 998,
      "id": "ttPhiO1rsvPq",
      "metadata": {
        "id": "ttPhiO1rsvPq"
      },
      "outputs": [
        {
          "name": "stderr",
          "output_type": "stream",
          "text": [
            "C:\\Users\\Администратор\\AppData\\Local\\Temp\\ipykernel_14920\\1272580378.py:2: UserWarning:\n",
            "\n",
            "pandas only supports SQLAlchemy connectable (engine/connection) or database string URI or sqlite3 DBAPI2 connection. Other DBAPI2 objects are not tested. Please consider using SQLAlchemy.\n",
            "\n"
          ]
        },
        {
          "data": {
            "text/html": [
              "<div>\n",
              "<style scoped>\n",
              "    .dataframe tbody tr th:only-of-type {\n",
              "        vertical-align: middle;\n",
              "    }\n",
              "\n",
              "    .dataframe tbody tr th {\n",
              "        vertical-align: top;\n",
              "    }\n",
              "\n",
              "    .dataframe thead th {\n",
              "        text-align: right;\n",
              "    }\n",
              "</style>\n",
              "<table border=\"1\" class=\"dataframe\">\n",
              "  <thead>\n",
              "    <tr style=\"text-align: right;\">\n",
              "      <th></th>\n",
              "      <th>areaname</th>\n",
              "      <th>vacanciescount</th>\n",
              "    </tr>\n",
              "  </thead>\n",
              "  <tbody>\n",
              "    <tr>\n",
              "      <th>0</th>\n",
              "      <td>Москва</td>\n",
              "      <td>54.0</td>\n",
              "    </tr>\n",
              "    <tr>\n",
              "      <th>1</th>\n",
              "      <td>Санкт-Петербург</td>\n",
              "      <td>42.0</td>\n",
              "    </tr>\n",
              "    <tr>\n",
              "      <th>2</th>\n",
              "      <td>Екатеринбург</td>\n",
              "      <td>39.0</td>\n",
              "    </tr>\n",
              "    <tr>\n",
              "      <th>3</th>\n",
              "      <td>Новосибирск</td>\n",
              "      <td>35.0</td>\n",
              "    </tr>\n",
              "    <tr>\n",
              "      <th>4</th>\n",
              "      <td>Волгоград</td>\n",
              "      <td>24.0</td>\n",
              "    </tr>\n",
              "    <tr>\n",
              "      <th>5</th>\n",
              "      <td>Воронеж</td>\n",
              "      <td>32.0</td>\n",
              "    </tr>\n",
              "    <tr>\n",
              "      <th>6</th>\n",
              "      <td>Краснодар</td>\n",
              "      <td>30.0</td>\n",
              "    </tr>\n",
              "    <tr>\n",
              "      <th>7</th>\n",
              "      <td>Красноярск</td>\n",
              "      <td>23.0</td>\n",
              "    </tr>\n",
              "    <tr>\n",
              "      <th>8</th>\n",
              "      <td>Нижний Новгород</td>\n",
              "      <td>36.0</td>\n",
              "    </tr>\n",
              "    <tr>\n",
              "      <th>9</th>\n",
              "      <td>Омск</td>\n",
              "      <td>21.0</td>\n",
              "    </tr>\n",
              "    <tr>\n",
              "      <th>10</th>\n",
              "      <td>Пермь</td>\n",
              "      <td>25.0</td>\n",
              "    </tr>\n",
              "    <tr>\n",
              "      <th>11</th>\n",
              "      <td>Ростов-на-Дону</td>\n",
              "      <td>25.0</td>\n",
              "    </tr>\n",
              "    <tr>\n",
              "      <th>12</th>\n",
              "      <td>Самара</td>\n",
              "      <td>26.0</td>\n",
              "    </tr>\n",
              "    <tr>\n",
              "      <th>13</th>\n",
              "      <td>Казань</td>\n",
              "      <td>25.0</td>\n",
              "    </tr>\n",
              "    <tr>\n",
              "      <th>14</th>\n",
              "      <td>Уфа</td>\n",
              "      <td>26.0</td>\n",
              "    </tr>\n",
              "    <tr>\n",
              "      <th>15</th>\n",
              "      <td>Челябинск</td>\n",
              "      <td>22.0</td>\n",
              "    </tr>\n",
              "    <tr>\n",
              "      <th>16</th>\n",
              "      <td>Total</td>\n",
              "      <td>485.0</td>\n",
              "    </tr>\n",
              "  </tbody>\n",
              "</table>\n",
              "</div>"
            ],
            "text/plain": [
              "           areaname  vacanciescount\n",
              "0            Москва            54.0\n",
              "1   Санкт-Петербург            42.0\n",
              "2      Екатеринбург            39.0\n",
              "3       Новосибирск            35.0\n",
              "4         Волгоград            24.0\n",
              "5           Воронеж            32.0\n",
              "6         Краснодар            30.0\n",
              "7        Красноярск            23.0\n",
              "8   Нижний Новгород            36.0\n",
              "9              Омск            21.0\n",
              "10            Пермь            25.0\n",
              "11   Ростов-на-Дону            25.0\n",
              "12           Самара            26.0\n",
              "13           Казань            25.0\n",
              "14              Уфа            26.0\n",
              "15        Челябинск            22.0\n",
              "16            Total           485.0"
            ]
          },
          "execution_count": 998,
          "metadata": {},
          "output_type": "execute_result"
        }
      ],
      "source": [
        "# выполняем SQL-запрос и сохраняем результат в DataFrame 'df'\n",
        "df = pd.read_sql_query(query_5_7, connection)\n",
        "df # отображаем содержимое DataFrame 'df'"
      ]
    },
    {
      "cell_type": "markdown",
      "id": "04966e40-3bc3-4dc8-9ba2-e80580ce3abc",
      "metadata": {
        "id": "04966e40-3bc3-4dc8-9ba2-e80580ce3abc"
      },
      "source": [
        "***"
      ]
    },
    {
      "cell_type": "markdown",
      "id": "3b0c03c4",
      "metadata": {},
      "source": [
        "**Выводы по анализу работодателей**:  \n",
        "\n",
        "1. Лидеры по количеству вакансий:  \n",
        "Результаты показывают, что Яндекс занимает первое место с 1933 вакансиями, а Газпром нефть — пятое с 331 вакансиями. Это может указывать на то, что Яндекс активно расширяется и имеет большое количество проектов, требующих новых сотрудников. Газпром нефть, хотя и занимает более низкую позицию, тем не менее, является крупным работодателем в своей отрасли.\n",
        "2. Работодатели без вакансий:\n",
        "Самый большой интерес представляет регион Россия с 410 работодателями и нулевым количеством вакансий. Это может быть связано с тем, что данные были собраны не из всех возможных источников или вакансии были закрыты до момента сбора данных.\n",
        "3. Распределение работодателей по регионам:\n",
        "Работодатель с идентификатором 1740 представлен в 181 регионе, что указывает на его широкий охват и возможно национальное значение.\n",
        "4. Работодатели без сферы деятельности:\n",
        "Наличие 8419 работодателей без указания сферы деятельности может указывать на недостатки в системе сбора данных или на то, что многие компании не предоставляют полную информацию о своей деятельности.\n",
        "5. Компании с четырьмя сферами деятельности:\n",
        "Компания 2ГИС находится на третьем месте в алфавитном списке среди компаний с четырьмя сферами деятельности. Это может говорить о разнообразии их бизнеса и о том, что они занимаются различными видами деятельности.\n",
        "6. Работодатели в сфере IT:\n",
        "3553 работодателя указали сферу деятельности как \"Разработка программного обеспечения\", что подчеркивает значимость IT-отрасли и высокий спрос на специалистов в этой области.\n",
        "7. Вакансии “Яндекс” в городах-миллионниках:\n",
        "Анализ вакансий Яндекса в городах-миллионниках показывает, что большинство вакансий сосредоточено в Москве (54) и Санкт-Петербурге (42), что логично, учитывая их статус крупнейших экономических центров России. Общее количество вакансий составляет 485, что может свидетельствовать о сильной позиции компании на рынке труда.\n",
        "\n",
        "Яндекс и другие крупные компании могут рассмотреть возможность расширения присутствия в регионах с меньшим количеством вакансий для привлечения талантов.\n",
        "Работодателям следует улучшить качество данных о своих вакансиях, чтобы обеспечить более точный анализ и привлечение кандидатов.\n",
        "IT-отрасль продолжает оставаться важной для экономики, и компании должны инвестировать в развитие технологических навыков сотрудников.\n",
        "\n",
        "Анализ данных о работодателях и вакансиях показывает, что крупные компании, такие как Яндекс и Газпром нефть, доминируют на рынке труда. Регионы с большим количеством работодателей, но без вакансий, могут указывать на потенциальные возможности для роста занятости. IT-сектор остается ключевым, и есть потребность в улучшении качества данных для более эффективного соединения работодателей и соискателей.\n"
      ]
    },
    {
      "cell_type": "markdown",
      "id": "b1ef156a-efcb-49ce-bb23-90763e7f35b2",
      "metadata": {
        "id": "b1ef156a-efcb-49ce-bb23-90763e7f35b2",
        "tags": []
      },
      "source": [
        "# Юнит 6. Предметный анализ"
      ]
    },
    {
      "cell_type": "markdown",
      "id": "b9cd50a0-992d-4988-8463-2b2b1c4629b4",
      "metadata": {
        "id": "b9cd50a0-992d-4988-8463-2b2b1c4629b4"
      },
      "source": [
        "1. Сколько вакансий имеет отношение к данным?\n",
        "\n",
        "Считаем, что вакансия имеет отношение к данным, если в её названии содержатся слова 'data' или 'данн'.\n",
        "\n",
        "*Подсказка: Обратите внимание, что названия вакансий могут быть написаны в любом регистре.* \n"
      ]
    },
    {
      "cell_type": "code",
      "execution_count": 999,
      "id": "54ab0e50-c0f1-47cc-a54b-bc5c8bc363f9",
      "metadata": {
        "id": "54ab0e50-c0f1-47cc-a54b-bc5c8bc363f9"
      },
      "outputs": [],
      "source": [
        "query_6_1 = f'''\n",
        "-- Подсчет количества вакансий, связанных с обработкой данных\n",
        "SELECT \n",
        "    COUNT(*) AS \"DataRelatedVacancies\" -- 'DataRelatedVacancies' - общее количество вакансий, связанных с данными\n",
        "FROM \n",
        "    Vacancies -- 'Vacancies' - таблица, содержащая информацию о вакансиях\n",
        "WHERE \n",
        "    UPPER(name) LIKE '%DATA%' -- Поиск вакансий, содержащих слово 'DATA' в названии, без учета регистра\n",
        "    OR \n",
        "    UPPER(name) LIKE '%ДАНН%' -- Поиск вакансий, содержащих слово 'ДАНН' в названии, также без учета регистра\n",
        "'''"
      ]
    },
    {
      "cell_type": "code",
      "execution_count": 1000,
      "id": "9F1meAqsuUjd",
      "metadata": {
        "id": "9F1meAqsuUjd"
      },
      "outputs": [
        {
          "name": "stderr",
          "output_type": "stream",
          "text": [
            "C:\\Users\\Администратор\\AppData\\Local\\Temp\\ipykernel_14920\\2857538695.py:2: UserWarning:\n",
            "\n",
            "pandas only supports SQLAlchemy connectable (engine/connection) or database string URI or sqlite3 DBAPI2 connection. Other DBAPI2 objects are not tested. Please consider using SQLAlchemy.\n",
            "\n"
          ]
        },
        {
          "data": {
            "text/html": [
              "<div>\n",
              "<style scoped>\n",
              "    .dataframe tbody tr th:only-of-type {\n",
              "        vertical-align: middle;\n",
              "    }\n",
              "\n",
              "    .dataframe tbody tr th {\n",
              "        vertical-align: top;\n",
              "    }\n",
              "\n",
              "    .dataframe thead th {\n",
              "        text-align: right;\n",
              "    }\n",
              "</style>\n",
              "<table border=\"1\" class=\"dataframe\">\n",
              "  <thead>\n",
              "    <tr style=\"text-align: right;\">\n",
              "      <th></th>\n",
              "      <th>DataRelatedVacancies</th>\n",
              "    </tr>\n",
              "  </thead>\n",
              "  <tbody>\n",
              "    <tr>\n",
              "      <th>0</th>\n",
              "      <td>1771</td>\n",
              "    </tr>\n",
              "  </tbody>\n",
              "</table>\n",
              "</div>"
            ],
            "text/plain": [
              "   DataRelatedVacancies\n",
              "0                  1771"
            ]
          },
          "execution_count": 1000,
          "metadata": {},
          "output_type": "execute_result"
        }
      ],
      "source": [
        "# выполняем SQL-запрос и сохраняем результат в DataFrame 'df'\n",
        "df = pd.read_sql_query(query_6_1, connection)\n",
        "df # отображаем содержимое DataFrame 'df'"
      ]
    },
    {
      "cell_type": "markdown",
      "id": "4dea20cb-a36b-474a-a0b9-e08e8e3857a5",
      "metadata": {
        "id": "4dea20cb-a36b-474a-a0b9-e08e8e3857a5"
      },
      "source": [
        "2. Сколько есть подходящих вакансий для начинающего дата-сайентиста? \n",
        "Будем считать вакансиями для дата-сайентистов такие, в названии которых есть хотя бы одно из следующих сочетаний:\n",
        "* 'data scientist'\n",
        "* 'data science'\n",
        "* 'исследователь данных'\n",
        "* 'ML' (здесь не нужно брать вакансии по HTML)\n",
        "* 'machine learning'\n",
        "* 'машинн%обучен%'\n",
        "\n",
        "** В следующих заданиях мы продолжим работать с вакансиями по этому условию.*\n",
        "\n",
        "Считаем вакансиями для специалистов уровня Junior следующие:\n",
        "* в названии есть слово 'junior' *или*\n",
        "* требуемый опыт — Нет опыта *или*\n",
        "* тип трудоустройства — Стажировка.\n",
        " "
      ]
    },
    {
      "cell_type": "code",
      "execution_count": 1001,
      "id": "9c61b3c0-bb66-46c9-ae1e-81d3f5752b4a",
      "metadata": {
        "id": "9c61b3c0-bb66-46c9-ae1e-81d3f5752b4a"
      },
      "outputs": [],
      "source": [
        "query_6_2 = f'''\n",
        "-- Выборка количества вакансий для начинающих специалистов в области данных\n",
        "SELECT \n",
        "    COUNT(*) AS \"EntryLevelVacancies\" -- 'EntryLevelVacancies' - количество вакансий для начинающих\n",
        "FROM \n",
        "    Vacancies -- 'Vacancies' - таблица вакансий\n",
        "WHERE \n",
        "    (\n",
        "        LOWER(name) LIKE '%data scientist%' OR -- Ищем вакансии для 'data scientist'\n",
        "        LOWER(name) LIKE '%data science%' OR -- Ищем вакансии в области 'data science'\n",
        "        LOWER(name) LIKE '%исследователь данных%' OR -- Ищем вакансии 'исследователя данных'\n",
        "        (\n",
        "            LOWER(name) LIKE '%ml%' AND -- Ищем вакансии по 'ML', исключая те, что связаны с HTML\n",
        "            LOWER(name) NOT LIKE '%html%'\n",
        "        ) OR\n",
        "        LOWER(name) LIKE '%machine learning%' OR -- Ищем вакансии 'machine learning'\n",
        "        LOWER(name) LIKE '%машинн%обучен%' -- Ищем вакансии по 'машинному обучению'\n",
        "    )\n",
        "    AND\n",
        "    (\n",
        "        LOWER(name) LIKE '%junior%' OR -- Ищем вакансии для 'junior' специалистов\n",
        "        LOWER(experience) LIKE '%нет опыта%' OR -- Ищем вакансии без требования опыта\n",
        "        LOWER(employment) LIKE '%стажировка%' -- Ищем стажировки\n",
        "    )\n",
        "\n",
        "''' "
      ]
    },
    {
      "cell_type": "code",
      "execution_count": 1002,
      "id": "ZNM-LLYuu1dj",
      "metadata": {
        "id": "ZNM-LLYuu1dj"
      },
      "outputs": [
        {
          "name": "stderr",
          "output_type": "stream",
          "text": [
            "C:\\Users\\Администратор\\AppData\\Local\\Temp\\ipykernel_14920\\1939716864.py:2: UserWarning:\n",
            "\n",
            "pandas only supports SQLAlchemy connectable (engine/connection) or database string URI or sqlite3 DBAPI2 connection. Other DBAPI2 objects are not tested. Please consider using SQLAlchemy.\n",
            "\n"
          ]
        },
        {
          "data": {
            "text/html": [
              "<div>\n",
              "<style scoped>\n",
              "    .dataframe tbody tr th:only-of-type {\n",
              "        vertical-align: middle;\n",
              "    }\n",
              "\n",
              "    .dataframe tbody tr th {\n",
              "        vertical-align: top;\n",
              "    }\n",
              "\n",
              "    .dataframe thead th {\n",
              "        text-align: right;\n",
              "    }\n",
              "</style>\n",
              "<table border=\"1\" class=\"dataframe\">\n",
              "  <thead>\n",
              "    <tr style=\"text-align: right;\">\n",
              "      <th></th>\n",
              "      <th>EntryLevelVacancies</th>\n",
              "    </tr>\n",
              "  </thead>\n",
              "  <tbody>\n",
              "    <tr>\n",
              "      <th>0</th>\n",
              "      <td>51</td>\n",
              "    </tr>\n",
              "  </tbody>\n",
              "</table>\n",
              "</div>"
            ],
            "text/plain": [
              "   EntryLevelVacancies\n",
              "0                   51"
            ]
          },
          "execution_count": 1002,
          "metadata": {},
          "output_type": "execute_result"
        }
      ],
      "source": [
        "# выполняем SQL-запрос и сохраняем результат в DataFrame 'df'\n",
        "df = pd.read_sql_query(query_6_2, connection)\n",
        "df # отображаем содержимое DataFrame 'df'"
      ]
    },
    {
      "cell_type": "markdown",
      "id": "eedceb80-c5ca-480e-b27a-278dfb8b4438",
      "metadata": {
        "id": "eedceb80-c5ca-480e-b27a-278dfb8b4438"
      },
      "source": [
        "3. Сколько есть вакансий для DS, в которых в качестве ключевого навыка указан SQL или postgres?\n",
        "\n",
        "** Критерии для отнесения вакансии к DS указаны в предыдущем задании.*"
      ]
    },
    {
      "cell_type": "code",
      "execution_count": 1003,
      "id": "69621713-0cc5-4f1b-a1d7-bb144fa6148c",
      "metadata": {
        "id": "69621713-0cc5-4f1b-a1d7-bb144fa6148c"
      },
      "outputs": [],
      "source": [
        "query_6_3 = f'''\n",
        "-- Выборка количества вакансий для специалистов в области Data Science с упором на SQL и Postgres\n",
        "SELECT \n",
        "    COUNT(*) AS \"VacanciesWithSQL\" -- 'VacanciesWithSQL' - количество вакансий, где требуется SQL или Postgres\n",
        "FROM \n",
        "    Vacancies -- 'Vacancies' - таблица, содержащая информацию о вакансиях\n",
        "WHERE \n",
        "    (\n",
        "        LOWER(name) LIKE '%data scientist%' OR -- Ищем вакансии для 'Data Scientist'\n",
        "        LOWER(name) LIKE '%data science%' OR -- Ищем вакансии в области 'Data Science'\n",
        "        LOWER(name) LIKE '%исследователь данных%' OR -- Ищем вакансии 'Исследователя данных'\n",
        "        LOWER(name) LIKE '%machine learning%' OR -- Ищем вакансии 'Machine Learning'\n",
        "        LOWER(name) LIKE '%машинн%обучен%' OR -- Ищем вакансии 'Машинного обучения'\n",
        "        (LOWER(name) LIKE '%ml%' AND NOT LOWER(name) LIKE '%html%') -- Ищем вакансии по 'ML', исключая 'HTML'\n",
        "    ) AND (\n",
        "        LOWER(key_skills) LIKE '%sql%' OR -- Ключевые навыки включают 'SQL'\n",
        "        LOWER(key_skills) LIKE '%postgres%' -- Или 'Postgres'\n",
        "    )\n",
        "'''"
      ]
    },
    {
      "cell_type": "code",
      "execution_count": 1004,
      "id": "alA8WEAAvGdf",
      "metadata": {
        "id": "alA8WEAAvGdf"
      },
      "outputs": [
        {
          "name": "stderr",
          "output_type": "stream",
          "text": [
            "C:\\Users\\Администратор\\AppData\\Local\\Temp\\ipykernel_14920\\1711649379.py:2: UserWarning:\n",
            "\n",
            "pandas only supports SQLAlchemy connectable (engine/connection) or database string URI or sqlite3 DBAPI2 connection. Other DBAPI2 objects are not tested. Please consider using SQLAlchemy.\n",
            "\n"
          ]
        },
        {
          "data": {
            "text/html": [
              "<div>\n",
              "<style scoped>\n",
              "    .dataframe tbody tr th:only-of-type {\n",
              "        vertical-align: middle;\n",
              "    }\n",
              "\n",
              "    .dataframe tbody tr th {\n",
              "        vertical-align: top;\n",
              "    }\n",
              "\n",
              "    .dataframe thead th {\n",
              "        text-align: right;\n",
              "    }\n",
              "</style>\n",
              "<table border=\"1\" class=\"dataframe\">\n",
              "  <thead>\n",
              "    <tr style=\"text-align: right;\">\n",
              "      <th></th>\n",
              "      <th>VacanciesWithSQL</th>\n",
              "    </tr>\n",
              "  </thead>\n",
              "  <tbody>\n",
              "    <tr>\n",
              "      <th>0</th>\n",
              "      <td>229</td>\n",
              "    </tr>\n",
              "  </tbody>\n",
              "</table>\n",
              "</div>"
            ],
            "text/plain": [
              "   VacanciesWithSQL\n",
              "0               229"
            ]
          },
          "execution_count": 1004,
          "metadata": {},
          "output_type": "execute_result"
        }
      ],
      "source": [
        "# выполняем SQL-запрос и сохраняем результат в DataFrame 'df'\n",
        "df = pd.read_sql_query(query_6_3, connection)\n",
        "df # отображаем содержимое DataFrame 'df'"
      ]
    },
    {
      "cell_type": "markdown",
      "id": "1be1e9c6-37cf-4a5f-bfeb-04cab799dc80",
      "metadata": {
        "id": "1be1e9c6-37cf-4a5f-bfeb-04cab799dc80"
      },
      "source": [
        "4. Проверьте, насколько популярен Python в требованиях работодателей к DS.Для этого вычислите количество вакансий, в которых в качестве ключевого навыка указан Python.\n",
        "\n",
        "** Это можно сделать помощью запроса, аналогичного предыдущему.*"
      ]
    },
    {
      "cell_type": "code",
      "execution_count": 1005,
      "id": "0036a355-9ccf-4564-8b01-73d8194297e7",
      "metadata": {
        "id": "0036a355-9ccf-4564-8b01-73d8194297e7"
      },
      "outputs": [],
      "source": [
        "# текст запроса\n",
        "query_6_4 = f'''\n",
        "-- Определение количества вакансий для специалистов Data Science с требованием знания Python\n",
        "SELECT \n",
        "    COUNT(*) AS \"PythonVacancies\" -- 'PythonVacancies' - количество вакансий, где требуется Python\n",
        "FROM \n",
        "    Vacancies -- 'Vacancies' - таблица, содержащая информацию о вакансиях\n",
        "WHERE \n",
        "    (\n",
        "        LOWER(name) LIKE '%data scientist%' OR -- Ищем вакансии для 'Data Scientist'\n",
        "        LOWER(name) LIKE '%data science%' OR -- Ищем вакансии в области 'Data Science'\n",
        "        LOWER(name) LIKE '%исследователь данных%' OR -- Ищем вакансии 'Исследователя данных'\n",
        "        LOWER(name) LIKE '%machine learning%' OR -- Ищем вакансии 'Machine Learning'\n",
        "        LOWER(name) LIKE '%машинн%обучен%' OR -- Ищем вакансии 'Машинного обучения'\n",
        "        (LOWER(name) LIKE '%ml%' AND NOT LOWER(name) LIKE '%html%') -- Ищем вакансии по 'ML', исключая 'HTML'\n",
        "    ) AND (\n",
        "        LOWER(key_skills) LIKE '%python%' -- Ключевые навыки включают 'Python'\n",
        "    )\n",
        "'''\n"
      ]
    },
    {
      "cell_type": "code",
      "execution_count": 1006,
      "id": "1i-5WyucvQ6v",
      "metadata": {
        "id": "1i-5WyucvQ6v"
      },
      "outputs": [
        {
          "name": "stderr",
          "output_type": "stream",
          "text": [
            "C:\\Users\\Администратор\\AppData\\Local\\Temp\\ipykernel_14920\\1129006649.py:2: UserWarning:\n",
            "\n",
            "pandas only supports SQLAlchemy connectable (engine/connection) or database string URI or sqlite3 DBAPI2 connection. Other DBAPI2 objects are not tested. Please consider using SQLAlchemy.\n",
            "\n"
          ]
        },
        {
          "data": {
            "text/html": [
              "<div>\n",
              "<style scoped>\n",
              "    .dataframe tbody tr th:only-of-type {\n",
              "        vertical-align: middle;\n",
              "    }\n",
              "\n",
              "    .dataframe tbody tr th {\n",
              "        vertical-align: top;\n",
              "    }\n",
              "\n",
              "    .dataframe thead th {\n",
              "        text-align: right;\n",
              "    }\n",
              "</style>\n",
              "<table border=\"1\" class=\"dataframe\">\n",
              "  <thead>\n",
              "    <tr style=\"text-align: right;\">\n",
              "      <th></th>\n",
              "      <th>PythonVacancies</th>\n",
              "    </tr>\n",
              "  </thead>\n",
              "  <tbody>\n",
              "    <tr>\n",
              "      <th>0</th>\n",
              "      <td>357</td>\n",
              "    </tr>\n",
              "  </tbody>\n",
              "</table>\n",
              "</div>"
            ],
            "text/plain": [
              "   PythonVacancies\n",
              "0              357"
            ]
          },
          "execution_count": 1006,
          "metadata": {},
          "output_type": "execute_result"
        }
      ],
      "source": [
        "# выполняем SQL-запрос и сохраняем результат в DataFrame 'df'\n",
        "df = pd.read_sql_query(query_6_4, connection)\n",
        "df # отображаем содержимое DataFrame 'df'"
      ]
    },
    {
      "cell_type": "markdown",
      "id": "ec3c8db7-fa21-4a41-a994-1af63742a642",
      "metadata": {
        "id": "ec3c8db7-fa21-4a41-a994-1af63742a642"
      },
      "source": [
        "5. Сколько ключевых навыков в среднем указывают в вакансиях для DS?\n",
        "Ответ округлите до двух знаков после точки-разделителя."
      ]
    },
    {
      "cell_type": "code",
      "execution_count": 1007,
      "id": "949132bc-d5b6-4611-8218-0b9a504d74f4",
      "metadata": {
        "id": "949132bc-d5b6-4611-8218-0b9a504d74f4"
      },
      "outputs": [],
      "source": [
        "query_6_5 = f'''\n",
        "SELECT \n",
        "    -- Округляем среднее значение до двух знаков после запятой\n",
        "    ROUND(AVG(\n",
        "        -- Вычисляем длину строки key_skills\n",
        "        LENGTH(key_skills) - \n",
        "        -- Вычитаем длину строки key_skills без табуляции (CHR(9))\n",
        "        LENGTH(REPLACE(key_skills, CHR(9), '')) + 1\n",
        "    ), 2)\n",
        "FROM \n",
        "    VACANCIES\n",
        "WHERE \n",
        "    -- Фильтруем вакансии по названию, связанным с Data Science\n",
        "    (name ILIKE '%data scientist%' OR \n",
        "     name ILIKE '%data science%' OR \n",
        "     name ILIKE '%исследователь данных%' OR \n",
        "     -- Исключаем вакансии, связанные с HTML, но включаем ML\n",
        "     (name LIKE '%ML%' AND \n",
        "      name NOT LIKE '%HTML%') OR\n",
        "     name ILIKE '%machine learning%' OR \n",
        "     name ILIKE '%машинн%обучен%')\n",
        "'''"
      ]
    },
    {
      "cell_type": "code",
      "execution_count": 1008,
      "id": "a3V24Tvmviqk",
      "metadata": {
        "id": "a3V24Tvmviqk"
      },
      "outputs": [
        {
          "name": "stderr",
          "output_type": "stream",
          "text": [
            "C:\\Users\\Администратор\\AppData\\Local\\Temp\\ipykernel_14920\\4097510479.py:2: UserWarning:\n",
            "\n",
            "pandas only supports SQLAlchemy connectable (engine/connection) or database string URI or sqlite3 DBAPI2 connection. Other DBAPI2 objects are not tested. Please consider using SQLAlchemy.\n",
            "\n"
          ]
        },
        {
          "data": {
            "text/html": [
              "<div>\n",
              "<style scoped>\n",
              "    .dataframe tbody tr th:only-of-type {\n",
              "        vertical-align: middle;\n",
              "    }\n",
              "\n",
              "    .dataframe tbody tr th {\n",
              "        vertical-align: top;\n",
              "    }\n",
              "\n",
              "    .dataframe thead th {\n",
              "        text-align: right;\n",
              "    }\n",
              "</style>\n",
              "<table border=\"1\" class=\"dataframe\">\n",
              "  <thead>\n",
              "    <tr style=\"text-align: right;\">\n",
              "      <th></th>\n",
              "      <th>round</th>\n",
              "    </tr>\n",
              "  </thead>\n",
              "  <tbody>\n",
              "    <tr>\n",
              "      <th>0</th>\n",
              "      <td>6.41</td>\n",
              "    </tr>\n",
              "  </tbody>\n",
              "</table>\n",
              "</div>"
            ],
            "text/plain": [
              "   round\n",
              "0   6.41"
            ]
          },
          "execution_count": 1008,
          "metadata": {},
          "output_type": "execute_result"
        }
      ],
      "source": [
        "# выполняем SQL-запрос и сохраняем результат в DataFrame 'df'\n",
        "df = pd.read_sql_query(query_6_5, connection)\n",
        "df # отображаем содержимое DataFrame 'df'"
      ]
    },
    {
      "cell_type": "markdown",
      "id": "1041c17a-ca8f-4543-a0ca-32778914fb00",
      "metadata": {
        "id": "1041c17a-ca8f-4543-a0ca-32778914fb00"
      },
      "source": [
        "6. Напишите запрос, позволяющий вычислить, какую зарплату для DS в **среднем** указывают для каждого типа требуемого опыта (уникальное значение из поля *experience*). \n",
        "\n",
        "При решении задачи примите во внимание следующее:\n",
        "1. Рассматриваем только вакансии, у которых заполнено хотя бы одно из двух полей с зарплатой.\n",
        "2. Если заполнены оба поля с зарплатой, то считаем зарплату по каждой вакансии как сумму двух полей, делённую на 2. Если заполнено только одно из полей, то его и считаем зарплатой по вакансии.\n",
        "3. Если в расчётах участвует null, в результате он тоже даст null (посмотрите, что возвращает запрос select 1 + null). Чтобы избежать этой ситуацию, мы воспользуемся функцией [coalesce](https://postgrespro.ru/docs/postgresql/9.5/functions-conditional#functions-coalesce-nvl-ifnull), которая заменит null на значение, которое мы передадим. Например, посмотрите, что возвращает запрос `select 1 + coalesce(null, 0)`\n",
        "\n",
        "Выясните, на какую зарплату в среднем может рассчитывать дата-сайентист с опытом работы от 3 до 6 лет. Результат округлите до целого числа. "
      ]
    },
    {
      "cell_type": "code",
      "execution_count": 1009,
      "id": "6a743d39-5204-48d3-8271-b9f88e68d40e",
      "metadata": {
        "id": "6a743d39-5204-48d3-8271-b9f88e68d40e"
      },
      "outputs": [],
      "source": [
        "query_6_6 = f'''\n",
        "SELECT \n",
        "    -- Выбираем столбец опыта работы для группировки результатов\n",
        "    experience AS experience, \n",
        "    -- Рассчитываем среднюю зарплату, округляя до целого числа\n",
        "    ROUND(AVG(\n",
        "        -- Используем COALESCE для выбора первого ненулевого значения\n",
        "        COALESCE(\n",
        "            -- Среднее значение между salary_from и salary_to, если оба доступны\n",
        "            (salary_from + salary_to) / 2, \n",
        "            salary_from, \n",
        "            salary_to\n",
        "        )\n",
        "    ), 0) AS salary_ds \n",
        "FROM \n",
        "    VACANCIES -- Из таблицы вакансий\n",
        "WHERE \n",
        "    -- Фильтруем вакансии по названию, связанным с Data Science\n",
        "    (name ILIKE '%data scientist%' OR \n",
        "     name ILIKE '%data science%' OR \n",
        "     name ILIKE '%исследователь данных%' OR \n",
        "     -- Исключаем вакансии, связанные с HTML, но включаем ML\n",
        "     (name LIKE '%ML%' AND \n",
        "      name NOT LIKE '%HTML%') OR\n",
        "     name ILIKE '%machine learning%' OR \n",
        "     name ILIKE '%машинн%обучен%') AND  \n",
        "    -- Условие, что зарплата должна быть указана\n",
        "    (salary_from IS NOT NULL OR salary_to IS NOT NULL) \n",
        "GROUP BY \n",
        "    -- Группируем результаты по опыту работы\n",
        "    experience; \n",
        "'''"
      ]
    },
    {
      "cell_type": "code",
      "execution_count": 1010,
      "id": "aRIJ0mZEwU1_",
      "metadata": {
        "id": "aRIJ0mZEwU1_"
      },
      "outputs": [
        {
          "name": "stderr",
          "output_type": "stream",
          "text": [
            "C:\\Users\\Администратор\\AppData\\Local\\Temp\\ipykernel_14920\\80771059.py:2: UserWarning:\n",
            "\n",
            "pandas only supports SQLAlchemy connectable (engine/connection) or database string URI or sqlite3 DBAPI2 connection. Other DBAPI2 objects are not tested. Please consider using SQLAlchemy.\n",
            "\n"
          ]
        },
        {
          "data": {
            "text/html": [
              "<div>\n",
              "<style scoped>\n",
              "    .dataframe tbody tr th:only-of-type {\n",
              "        vertical-align: middle;\n",
              "    }\n",
              "\n",
              "    .dataframe tbody tr th {\n",
              "        vertical-align: top;\n",
              "    }\n",
              "\n",
              "    .dataframe thead th {\n",
              "        text-align: right;\n",
              "    }\n",
              "</style>\n",
              "<table border=\"1\" class=\"dataframe\">\n",
              "  <thead>\n",
              "    <tr style=\"text-align: right;\">\n",
              "      <th></th>\n",
              "      <th>experience</th>\n",
              "      <th>salary_ds</th>\n",
              "    </tr>\n",
              "  </thead>\n",
              "  <tbody>\n",
              "    <tr>\n",
              "      <th>0</th>\n",
              "      <td>Нет опыта</td>\n",
              "      <td>74643.0</td>\n",
              "    </tr>\n",
              "    <tr>\n",
              "      <th>1</th>\n",
              "      <td>От 1 года до 3 лет</td>\n",
              "      <td>139675.0</td>\n",
              "    </tr>\n",
              "    <tr>\n",
              "      <th>2</th>\n",
              "      <td>От 3 до 6 лет</td>\n",
              "      <td>243115.0</td>\n",
              "    </tr>\n",
              "  </tbody>\n",
              "</table>\n",
              "</div>"
            ],
            "text/plain": [
              "           experience  salary_ds\n",
              "0           Нет опыта    74643.0\n",
              "1  От 1 года до 3 лет   139675.0\n",
              "2       От 3 до 6 лет   243115.0"
            ]
          },
          "execution_count": 1010,
          "metadata": {},
          "output_type": "execute_result"
        }
      ],
      "source": [
        "# выполняем SQL-запрос и сохраняем результат в DataFrame 'df'\n",
        "df66 = pd.read_sql_query(query_6_6, connection)\n",
        "df66 # отображаем содержимое DataFrame 'df'"
      ]
    },
    {
      "cell_type": "code",
      "execution_count": 1011,
      "id": "04cd9df7",
      "metadata": {},
      "outputs": [
        {
          "data": {
            "text/plain": [
              "'Средняя зарплата DS с опытом работы от 3 до 6 лет: 243115'"
            ]
          },
          "metadata": {},
          "output_type": "display_data"
        }
      ],
      "source": [
        "avg_salary = int(df66[df66['experience'] == 'От 3 до 6 лет']['salary_ds'].iloc[0])\n",
        "display(f'Средняя зарплата DS с опытом работы от 3 до 6 лет: {avg_salary}')"
      ]
    },
    {
      "cell_type": "markdown",
      "id": "6a7892b4-4113-4746-adce-18aa2844f18e",
      "metadata": {
        "id": "6a7892b4-4113-4746-adce-18aa2844f18e"
      },
      "source": [
        "***"
      ]
    },
    {
      "cell_type": "code",
      "execution_count": 1012,
      "id": "38249540",
      "metadata": {},
      "outputs": [
        {
          "data": {
            "application/vnd.plotly.v1+json": {
              "config": {
                "plotlyServerURL": "https://plot.ly"
              },
              "data": [
                {
                  "hovertemplate": "experience=%{x}<br>salary_ds=%{y}<extra></extra>",
                  "legendgroup": "",
                  "line": {
                    "color": "#636efa",
                    "dash": "solid"
                  },
                  "marker": {
                    "symbol": "circle"
                  },
                  "mode": "lines",
                  "name": "",
                  "orientation": "v",
                  "showlegend": false,
                  "type": "scatter",
                  "x": [
                    "Нет опыта",
                    "От 1 года до 3 лет",
                    "От 3 до 6 лет"
                  ],
                  "xaxis": "x",
                  "y": [
                    74643,
                    139675,
                    243115
                  ],
                  "yaxis": "y"
                }
              ],
              "layout": {
                "grid": {
                  "columns": 2,
                  "rows": 1
                },
                "legend": {
                  "tracegroupgap": 0
                },
                "template": {
                  "data": {
                    "bar": [
                      {
                        "error_x": {
                          "color": "#2a3f5f"
                        },
                        "error_y": {
                          "color": "#2a3f5f"
                        },
                        "marker": {
                          "line": {
                            "color": "#E5ECF6",
                            "width": 0.5
                          },
                          "pattern": {
                            "fillmode": "overlay",
                            "size": 10,
                            "solidity": 0.2
                          }
                        },
                        "type": "bar"
                      }
                    ],
                    "barpolar": [
                      {
                        "marker": {
                          "line": {
                            "color": "#E5ECF6",
                            "width": 0.5
                          },
                          "pattern": {
                            "fillmode": "overlay",
                            "size": 10,
                            "solidity": 0.2
                          }
                        },
                        "type": "barpolar"
                      }
                    ],
                    "carpet": [
                      {
                        "aaxis": {
                          "endlinecolor": "#2a3f5f",
                          "gridcolor": "white",
                          "linecolor": "white",
                          "minorgridcolor": "white",
                          "startlinecolor": "#2a3f5f"
                        },
                        "baxis": {
                          "endlinecolor": "#2a3f5f",
                          "gridcolor": "white",
                          "linecolor": "white",
                          "minorgridcolor": "white",
                          "startlinecolor": "#2a3f5f"
                        },
                        "type": "carpet"
                      }
                    ],
                    "choropleth": [
                      {
                        "colorbar": {
                          "outlinewidth": 0,
                          "ticks": ""
                        },
                        "type": "choropleth"
                      }
                    ],
                    "contour": [
                      {
                        "colorbar": {
                          "outlinewidth": 0,
                          "ticks": ""
                        },
                        "colorscale": [
                          [
                            0,
                            "#0d0887"
                          ],
                          [
                            0.1111111111111111,
                            "#46039f"
                          ],
                          [
                            0.2222222222222222,
                            "#7201a8"
                          ],
                          [
                            0.3333333333333333,
                            "#9c179e"
                          ],
                          [
                            0.4444444444444444,
                            "#bd3786"
                          ],
                          [
                            0.5555555555555556,
                            "#d8576b"
                          ],
                          [
                            0.6666666666666666,
                            "#ed7953"
                          ],
                          [
                            0.7777777777777778,
                            "#fb9f3a"
                          ],
                          [
                            0.8888888888888888,
                            "#fdca26"
                          ],
                          [
                            1,
                            "#f0f921"
                          ]
                        ],
                        "type": "contour"
                      }
                    ],
                    "contourcarpet": [
                      {
                        "colorbar": {
                          "outlinewidth": 0,
                          "ticks": ""
                        },
                        "type": "contourcarpet"
                      }
                    ],
                    "heatmap": [
                      {
                        "colorbar": {
                          "outlinewidth": 0,
                          "ticks": ""
                        },
                        "colorscale": [
                          [
                            0,
                            "#0d0887"
                          ],
                          [
                            0.1111111111111111,
                            "#46039f"
                          ],
                          [
                            0.2222222222222222,
                            "#7201a8"
                          ],
                          [
                            0.3333333333333333,
                            "#9c179e"
                          ],
                          [
                            0.4444444444444444,
                            "#bd3786"
                          ],
                          [
                            0.5555555555555556,
                            "#d8576b"
                          ],
                          [
                            0.6666666666666666,
                            "#ed7953"
                          ],
                          [
                            0.7777777777777778,
                            "#fb9f3a"
                          ],
                          [
                            0.8888888888888888,
                            "#fdca26"
                          ],
                          [
                            1,
                            "#f0f921"
                          ]
                        ],
                        "type": "heatmap"
                      }
                    ],
                    "heatmapgl": [
                      {
                        "colorbar": {
                          "outlinewidth": 0,
                          "ticks": ""
                        },
                        "colorscale": [
                          [
                            0,
                            "#0d0887"
                          ],
                          [
                            0.1111111111111111,
                            "#46039f"
                          ],
                          [
                            0.2222222222222222,
                            "#7201a8"
                          ],
                          [
                            0.3333333333333333,
                            "#9c179e"
                          ],
                          [
                            0.4444444444444444,
                            "#bd3786"
                          ],
                          [
                            0.5555555555555556,
                            "#d8576b"
                          ],
                          [
                            0.6666666666666666,
                            "#ed7953"
                          ],
                          [
                            0.7777777777777778,
                            "#fb9f3a"
                          ],
                          [
                            0.8888888888888888,
                            "#fdca26"
                          ],
                          [
                            1,
                            "#f0f921"
                          ]
                        ],
                        "type": "heatmapgl"
                      }
                    ],
                    "histogram": [
                      {
                        "marker": {
                          "pattern": {
                            "fillmode": "overlay",
                            "size": 10,
                            "solidity": 0.2
                          }
                        },
                        "type": "histogram"
                      }
                    ],
                    "histogram2d": [
                      {
                        "colorbar": {
                          "outlinewidth": 0,
                          "ticks": ""
                        },
                        "colorscale": [
                          [
                            0,
                            "#0d0887"
                          ],
                          [
                            0.1111111111111111,
                            "#46039f"
                          ],
                          [
                            0.2222222222222222,
                            "#7201a8"
                          ],
                          [
                            0.3333333333333333,
                            "#9c179e"
                          ],
                          [
                            0.4444444444444444,
                            "#bd3786"
                          ],
                          [
                            0.5555555555555556,
                            "#d8576b"
                          ],
                          [
                            0.6666666666666666,
                            "#ed7953"
                          ],
                          [
                            0.7777777777777778,
                            "#fb9f3a"
                          ],
                          [
                            0.8888888888888888,
                            "#fdca26"
                          ],
                          [
                            1,
                            "#f0f921"
                          ]
                        ],
                        "type": "histogram2d"
                      }
                    ],
                    "histogram2dcontour": [
                      {
                        "colorbar": {
                          "outlinewidth": 0,
                          "ticks": ""
                        },
                        "colorscale": [
                          [
                            0,
                            "#0d0887"
                          ],
                          [
                            0.1111111111111111,
                            "#46039f"
                          ],
                          [
                            0.2222222222222222,
                            "#7201a8"
                          ],
                          [
                            0.3333333333333333,
                            "#9c179e"
                          ],
                          [
                            0.4444444444444444,
                            "#bd3786"
                          ],
                          [
                            0.5555555555555556,
                            "#d8576b"
                          ],
                          [
                            0.6666666666666666,
                            "#ed7953"
                          ],
                          [
                            0.7777777777777778,
                            "#fb9f3a"
                          ],
                          [
                            0.8888888888888888,
                            "#fdca26"
                          ],
                          [
                            1,
                            "#f0f921"
                          ]
                        ],
                        "type": "histogram2dcontour"
                      }
                    ],
                    "mesh3d": [
                      {
                        "colorbar": {
                          "outlinewidth": 0,
                          "ticks": ""
                        },
                        "type": "mesh3d"
                      }
                    ],
                    "parcoords": [
                      {
                        "line": {
                          "colorbar": {
                            "outlinewidth": 0,
                            "ticks": ""
                          }
                        },
                        "type": "parcoords"
                      }
                    ],
                    "pie": [
                      {
                        "automargin": true,
                        "type": "pie"
                      }
                    ],
                    "scatter": [
                      {
                        "fillpattern": {
                          "fillmode": "overlay",
                          "size": 10,
                          "solidity": 0.2
                        },
                        "type": "scatter"
                      }
                    ],
                    "scatter3d": [
                      {
                        "line": {
                          "colorbar": {
                            "outlinewidth": 0,
                            "ticks": ""
                          }
                        },
                        "marker": {
                          "colorbar": {
                            "outlinewidth": 0,
                            "ticks": ""
                          }
                        },
                        "type": "scatter3d"
                      }
                    ],
                    "scattercarpet": [
                      {
                        "marker": {
                          "colorbar": {
                            "outlinewidth": 0,
                            "ticks": ""
                          }
                        },
                        "type": "scattercarpet"
                      }
                    ],
                    "scattergeo": [
                      {
                        "marker": {
                          "colorbar": {
                            "outlinewidth": 0,
                            "ticks": ""
                          }
                        },
                        "type": "scattergeo"
                      }
                    ],
                    "scattergl": [
                      {
                        "marker": {
                          "colorbar": {
                            "outlinewidth": 0,
                            "ticks": ""
                          }
                        },
                        "type": "scattergl"
                      }
                    ],
                    "scattermapbox": [
                      {
                        "marker": {
                          "colorbar": {
                            "outlinewidth": 0,
                            "ticks": ""
                          }
                        },
                        "type": "scattermapbox"
                      }
                    ],
                    "scatterpolar": [
                      {
                        "marker": {
                          "colorbar": {
                            "outlinewidth": 0,
                            "ticks": ""
                          }
                        },
                        "type": "scatterpolar"
                      }
                    ],
                    "scatterpolargl": [
                      {
                        "marker": {
                          "colorbar": {
                            "outlinewidth": 0,
                            "ticks": ""
                          }
                        },
                        "type": "scatterpolargl"
                      }
                    ],
                    "scatterternary": [
                      {
                        "marker": {
                          "colorbar": {
                            "outlinewidth": 0,
                            "ticks": ""
                          }
                        },
                        "type": "scatterternary"
                      }
                    ],
                    "surface": [
                      {
                        "colorbar": {
                          "outlinewidth": 0,
                          "ticks": ""
                        },
                        "colorscale": [
                          [
                            0,
                            "#0d0887"
                          ],
                          [
                            0.1111111111111111,
                            "#46039f"
                          ],
                          [
                            0.2222222222222222,
                            "#7201a8"
                          ],
                          [
                            0.3333333333333333,
                            "#9c179e"
                          ],
                          [
                            0.4444444444444444,
                            "#bd3786"
                          ],
                          [
                            0.5555555555555556,
                            "#d8576b"
                          ],
                          [
                            0.6666666666666666,
                            "#ed7953"
                          ],
                          [
                            0.7777777777777778,
                            "#fb9f3a"
                          ],
                          [
                            0.8888888888888888,
                            "#fdca26"
                          ],
                          [
                            1,
                            "#f0f921"
                          ]
                        ],
                        "type": "surface"
                      }
                    ],
                    "table": [
                      {
                        "cells": {
                          "fill": {
                            "color": "#EBF0F8"
                          },
                          "line": {
                            "color": "white"
                          }
                        },
                        "header": {
                          "fill": {
                            "color": "#C8D4E3"
                          },
                          "line": {
                            "color": "white"
                          }
                        },
                        "type": "table"
                      }
                    ]
                  },
                  "layout": {
                    "annotationdefaults": {
                      "arrowcolor": "#2a3f5f",
                      "arrowhead": 0,
                      "arrowwidth": 1
                    },
                    "autotypenumbers": "strict",
                    "coloraxis": {
                      "colorbar": {
                        "outlinewidth": 0,
                        "ticks": ""
                      }
                    },
                    "colorscale": {
                      "diverging": [
                        [
                          0,
                          "#8e0152"
                        ],
                        [
                          0.1,
                          "#c51b7d"
                        ],
                        [
                          0.2,
                          "#de77ae"
                        ],
                        [
                          0.3,
                          "#f1b6da"
                        ],
                        [
                          0.4,
                          "#fde0ef"
                        ],
                        [
                          0.5,
                          "#f7f7f7"
                        ],
                        [
                          0.6,
                          "#e6f5d0"
                        ],
                        [
                          0.7,
                          "#b8e186"
                        ],
                        [
                          0.8,
                          "#7fbc41"
                        ],
                        [
                          0.9,
                          "#4d9221"
                        ],
                        [
                          1,
                          "#276419"
                        ]
                      ],
                      "sequential": [
                        [
                          0,
                          "#0d0887"
                        ],
                        [
                          0.1111111111111111,
                          "#46039f"
                        ],
                        [
                          0.2222222222222222,
                          "#7201a8"
                        ],
                        [
                          0.3333333333333333,
                          "#9c179e"
                        ],
                        [
                          0.4444444444444444,
                          "#bd3786"
                        ],
                        [
                          0.5555555555555556,
                          "#d8576b"
                        ],
                        [
                          0.6666666666666666,
                          "#ed7953"
                        ],
                        [
                          0.7777777777777778,
                          "#fb9f3a"
                        ],
                        [
                          0.8888888888888888,
                          "#fdca26"
                        ],
                        [
                          1,
                          "#f0f921"
                        ]
                      ],
                      "sequentialminus": [
                        [
                          0,
                          "#0d0887"
                        ],
                        [
                          0.1111111111111111,
                          "#46039f"
                        ],
                        [
                          0.2222222222222222,
                          "#7201a8"
                        ],
                        [
                          0.3333333333333333,
                          "#9c179e"
                        ],
                        [
                          0.4444444444444444,
                          "#bd3786"
                        ],
                        [
                          0.5555555555555556,
                          "#d8576b"
                        ],
                        [
                          0.6666666666666666,
                          "#ed7953"
                        ],
                        [
                          0.7777777777777778,
                          "#fb9f3a"
                        ],
                        [
                          0.8888888888888888,
                          "#fdca26"
                        ],
                        [
                          1,
                          "#f0f921"
                        ]
                      ]
                    },
                    "colorway": [
                      "#636efa",
                      "#EF553B",
                      "#00cc96",
                      "#ab63fa",
                      "#FFA15A",
                      "#19d3f3",
                      "#FF6692",
                      "#B6E880",
                      "#FF97FF",
                      "#FECB52"
                    ],
                    "font": {
                      "color": "#2a3f5f"
                    },
                    "geo": {
                      "bgcolor": "white",
                      "lakecolor": "white",
                      "landcolor": "#E5ECF6",
                      "showlakes": true,
                      "showland": true,
                      "subunitcolor": "white"
                    },
                    "hoverlabel": {
                      "align": "left"
                    },
                    "hovermode": "closest",
                    "mapbox": {
                      "style": "light"
                    },
                    "paper_bgcolor": "white",
                    "plot_bgcolor": "#E5ECF6",
                    "polar": {
                      "angularaxis": {
                        "gridcolor": "white",
                        "linecolor": "white",
                        "ticks": ""
                      },
                      "bgcolor": "#E5ECF6",
                      "radialaxis": {
                        "gridcolor": "white",
                        "linecolor": "white",
                        "ticks": ""
                      }
                    },
                    "scene": {
                      "xaxis": {
                        "backgroundcolor": "#E5ECF6",
                        "gridcolor": "white",
                        "gridwidth": 2,
                        "linecolor": "white",
                        "showbackground": true,
                        "ticks": "",
                        "zerolinecolor": "white"
                      },
                      "yaxis": {
                        "backgroundcolor": "#E5ECF6",
                        "gridcolor": "white",
                        "gridwidth": 2,
                        "linecolor": "white",
                        "showbackground": true,
                        "ticks": "",
                        "zerolinecolor": "white"
                      },
                      "zaxis": {
                        "backgroundcolor": "#E5ECF6",
                        "gridcolor": "white",
                        "gridwidth": 2,
                        "linecolor": "white",
                        "showbackground": true,
                        "ticks": "",
                        "zerolinecolor": "white"
                      }
                    },
                    "shapedefaults": {
                      "line": {
                        "color": "#2a3f5f"
                      }
                    },
                    "ternary": {
                      "aaxis": {
                        "gridcolor": "white",
                        "linecolor": "white",
                        "ticks": ""
                      },
                      "baxis": {
                        "gridcolor": "white",
                        "linecolor": "white",
                        "ticks": ""
                      },
                      "bgcolor": "#E5ECF6",
                      "caxis": {
                        "gridcolor": "white",
                        "linecolor": "white",
                        "ticks": ""
                      }
                    },
                    "title": {
                      "x": 0.05
                    },
                    "xaxis": {
                      "automargin": true,
                      "gridcolor": "white",
                      "linecolor": "white",
                      "ticks": "",
                      "title": {
                        "standoff": 15
                      },
                      "zerolinecolor": "white",
                      "zerolinewidth": 2
                    },
                    "yaxis": {
                      "automargin": true,
                      "gridcolor": "white",
                      "linecolor": "white",
                      "ticks": "",
                      "title": {
                        "standoff": 15
                      },
                      "zerolinecolor": "white",
                      "zerolinewidth": 2
                    }
                  }
                },
                "title": {
                  "text": "График зависимости средней зарплаты DS от опыта работы"
                },
                "xaxis": {
                  "anchor": "y",
                  "domain": [
                    0,
                    1
                  ],
                  "title": {
                    "text": "Опыт работы, лет"
                  }
                },
                "yaxis": {
                  "anchor": "x",
                  "domain": [
                    0,
                    1
                  ],
                  "title": {
                    "text": "Средняя зарплата DS, руб"
                  }
                }
              }
            }
          },
          "metadata": {},
          "output_type": "display_data"
        }
      ],
      "source": [
        "import plotly.express as px\n",
        "\n",
        "fig = px.line(df66, x='experience', y='salary_ds', title='График зависимости средней зарплаты DS от опыта работы')\n",
        "fig.update_layout(xaxis_title='Опыт работы, лет', yaxis_title='Средняя зарплата DS, руб', grid=dict(rows=1, columns=2))\n",
        "fig.show()"
      ]
    },
    {
      "cell_type": "markdown",
      "id": "2ad44f90",
      "metadata": {},
      "source": [
        "**7. Дополнительное задание:**  \n",
        "Выведим список из пяти работодателей с наивысшей средней зарплатой по их вакансиям, учитывая только тех работодателей, которые размещают вакансии более чем в одном регионе. В расчете средней зарплаты исключены вакансии без указания зарплаты. Результат отсортируем по убыванию средней зарплаты."
      ]
    },
    {
      "cell_type": "code",
      "execution_count": 1013,
      "id": "00547bb7",
      "metadata": {},
      "outputs": [],
      "source": [
        "query_6_7 = f'''\n",
        "SELECT\n",
        "    E.name AS EmployerName, -- выбираем название работодателя\n",
        "    AVG(COALESCE(V.salary_from, V.salary_to, (V.salary_from + V.salary_to) / 2)) AS AverageSalary, -- считаем среднюю зарплату, исключая NULL значения\n",
        "    STRING_AGG(DISTINCT V.experience, ', ') AS Experience, -- агрегируем уникальные значения опыта работы\n",
        "    STRING_AGG(DISTINCT V.schedule, ', ') AS Schedule -- агрегируем уникальные значения графика работы\n",
        "FROM\n",
        "    EMPLOYERS E -- указываем таблицу работодателей как источник данных\n",
        "JOIN\n",
        "    VACANCIES V ON E.id = V.employer_id -- соединяем таблицу вакансий с таблицей работодателей по идентификатору работодателя\n",
        "JOIN\n",
        "    AREAS A ON V.area_id = A.id -- соединяем таблицу вакансий с таблицей регионов по идентификатору региона\n",
        "WHERE\n",
        "    V.salary_from IS NOT NULL OR V.salary_to IS NOT NULL -- фильтруем вакансии, где указана хотя бы одна из зарплат\n",
        "GROUP BY\n",
        "    E.name -- группируем результаты по названию работодателя\n",
        "HAVING\n",
        "    COUNT(DISTINCT A.id) > 1 -- включаем только тех работодателей, которые имеют вакансии более чем в одном регионе\n",
        "ORDER BY\n",
        "    AverageSalary DESC -- сортируем результаты по убыванию средней зарплаты\n",
        "LIMIT 5; -- ограничиваем вывод первыми пятью строками\n",
        "'''"
      ]
    },
    {
      "cell_type": "code",
      "execution_count": 1014,
      "id": "7195d6e5",
      "metadata": {},
      "outputs": [
        {
          "name": "stderr",
          "output_type": "stream",
          "text": [
            "C:\\Users\\Администратор\\AppData\\Local\\Temp\\ipykernel_14920\\3194453808.py:2: UserWarning:\n",
            "\n",
            "pandas only supports SQLAlchemy connectable (engine/connection) or database string URI or sqlite3 DBAPI2 connection. Other DBAPI2 objects are not tested. Please consider using SQLAlchemy.\n",
            "\n"
          ]
        },
        {
          "data": {
            "text/html": [
              "<div>\n",
              "<style scoped>\n",
              "    .dataframe tbody tr th:only-of-type {\n",
              "        vertical-align: middle;\n",
              "    }\n",
              "\n",
              "    .dataframe tbody tr th {\n",
              "        vertical-align: top;\n",
              "    }\n",
              "\n",
              "    .dataframe thead th {\n",
              "        text-align: right;\n",
              "    }\n",
              "</style>\n",
              "<table border=\"1\" class=\"dataframe\">\n",
              "  <thead>\n",
              "    <tr style=\"text-align: right;\">\n",
              "      <th></th>\n",
              "      <th>employername</th>\n",
              "      <th>averagesalary</th>\n",
              "      <th>experience</th>\n",
              "      <th>schedule</th>\n",
              "    </tr>\n",
              "  </thead>\n",
              "  <tbody>\n",
              "    <tr>\n",
              "      <th>0</th>\n",
              "      <td>Август, Фирма</td>\n",
              "      <td>500000.0</td>\n",
              "      <td>Более 6 лет</td>\n",
              "      <td>Полный день</td>\n",
              "    </tr>\n",
              "    <tr>\n",
              "      <th>1</th>\n",
              "      <td>HR Prime</td>\n",
              "      <td>453517.6</td>\n",
              "      <td>От 1 года до 3 лет, От 3 до 6 лет</td>\n",
              "      <td>Полный день, Удаленная работа</td>\n",
              "    </tr>\n",
              "    <tr>\n",
              "      <th>2</th>\n",
              "      <td>Aston</td>\n",
              "      <td>375000.0</td>\n",
              "      <td>Более 6 лет, От 3 до 6 лет</td>\n",
              "      <td>Полный день</td>\n",
              "    </tr>\n",
              "    <tr>\n",
              "      <th>3</th>\n",
              "      <td>Anchous Drive Recruitment</td>\n",
              "      <td>350691.0</td>\n",
              "      <td>Более 6 лет, От 3 до 6 лет</td>\n",
              "      <td>Удаленная работа</td>\n",
              "    </tr>\n",
              "    <tr>\n",
              "      <th>4</th>\n",
              "      <td>oneFactor</td>\n",
              "      <td>350000.0</td>\n",
              "      <td>Нет опыта, От 3 до 6 лет</td>\n",
              "      <td>Полный день, Удаленная работа</td>\n",
              "    </tr>\n",
              "  </tbody>\n",
              "</table>\n",
              "</div>"
            ],
            "text/plain": [
              "                employername  averagesalary  \\\n",
              "0              Август, Фирма       500000.0   \n",
              "1                   HR Prime       453517.6   \n",
              "2                      Aston       375000.0   \n",
              "3  Anchous Drive Recruitment       350691.0   \n",
              "4                  oneFactor       350000.0   \n",
              "\n",
              "                          experience                       schedule  \n",
              "0                        Более 6 лет                    Полный день  \n",
              "1  От 1 года до 3 лет, От 3 до 6 лет  Полный день, Удаленная работа  \n",
              "2         Более 6 лет, От 3 до 6 лет                    Полный день  \n",
              "3         Более 6 лет, От 3 до 6 лет               Удаленная работа  \n",
              "4           Нет опыта, От 3 до 6 лет  Полный день, Удаленная работа  "
            ]
          },
          "execution_count": 1014,
          "metadata": {},
          "output_type": "execute_result"
        }
      ],
      "source": [
        "# выполняем SQL-запрос и сохраняем результат в DataFrame 'df'\n",
        "df67 = pd.read_sql_query(query_6_7, connection)\n",
        "df67 # отображаем содержимое DataFrame 'df'"
      ]
    },
    {
      "cell_type": "markdown",
      "id": "18d1ff6a",
      "metadata": {},
      "source": [
        "Существует значительное разнообразие в зарплатных предложениях и требованиях к опыту работы среди различных работодателей. Работодатели, предлагающие более высокие зарплаты, как правило, ищут кандидатов с более значительным опытом работы, что может указывать на более сложные и ответственные должности в их компаниях. Различия в средней зарплате могут быть обусловлены разными уровнями ответственности, квалификации и требуемого опыта для вакансий. Наличие вакансий с разными требованиями к опыту работы может указывать на широкий спектр должностей, открытых в компаниях. Вариативность графика работы отражает современные тенденции гибкости в трудоустройстве."
      ]
    },
    {
      "cell_type": "markdown",
      "id": "5e65938a",
      "metadata": {},
      "source": [
        "**Выводы по предметному анализу**:  \n",
        "\n",
        "1. Общее количество вакансий, связанных с данными: В базе данных насчитывается 1771 вакансия, которая имеет отношение к данным. Это говорит о значительном спросе на специалистов, работающих с данными, что подтверждает важность навыков анализа данных на современном рынке труда.\n",
        "2. Вакансии для начинающих дата-сайентистов: Количество вакансий для начинающих специалистов составляет 51. Это может указывать на то, что вход в профессию дата-сайентиста относительно доступен для новичков, и есть возможности для стажировок и позиций без требования опыта работы.\n",
        "3. Вакансии с требованием знания SQL или Postgres: Наличие 229 вакансий, где в качестве ключевого навыка указан SQL или Postgres, подчеркивает значимость этих технологий в работе с данными. SQL остается фундаментальным инструментом для работы с базами данных, а Postgres — популярной системой управления базами данных.\n",
        "4. Популярность Python среди работодателей: С 357 вакансиями, где требуется знание Python, можно сделать вывод, что Python является одним из самых востребованных языков программирования в сфере DS. Это связано с его гибкостью, мощными библиотеками для анализа данных и машинного обучения, а также с широким сообществом разработчиков.\n",
        "5. Среднее количество ключевых навыков в вакансиях: В среднем в вакансиях для DS указывают 6.41 ключевых навыков. Это отражает мультидисциплинарный характер профессии, где от кандидатов ожидается знание различных инструментов и методологий.\n",
        "6. Зарплата в зависимости от опыта работы:\n",
        "Без опыта: Средняя зарплата составляет 74 643 рублей.\n",
        "От 1 года до 3 лет: Средняя зарплата увеличивается до 139 675 рублей.\n",
        "От 3 до 6 лет: Средняя зарплата достигает 243 115 рублей.\n",
        "Эти данные показывают, что с увеличением опыта работы зарплата дата-сайентистов значительно растет, что может служить стимулом для профессионального развития и непрерывного обучения.\n",
        "\n",
        "Спрос на специалистов в области DS продолжит расти, особенно на тех, кто владеет Python и SQL.\n",
        "Новичкам стоит сосредоточиться на изучении Python и SQL, а также на понимании основ машинного обучения, чтобы улучшить свои шансы на трудоустройство.  \n",
        "Знание Python и SQL может быть ключевым фактором для достижения высокой зарплаты в сфере DS.\n",
        "Опытным специалистам следует продолжать развивать свои навыки в этих областях и следить за новыми технологиями и методами анализа данных."
      ]
    },
    {
      "cell_type": "markdown",
      "id": "c0ED6fh7wiBT",
      "metadata": {
        "id": "c0ED6fh7wiBT"
      },
      "source": [
        "# **Общий вывод по проекту**"
      ]
    },
    {
      "cell_type": "markdown",
      "id": "19f68014",
      "metadata": {},
      "source": [
        "**Предварительный анализ данных:** Рынок труда демонстрирует множество возможностей и разнообразие, что способствует конкуренции и развитию карьеры.  \n",
        "**Детальный анализ вакансий:** Географическое распределение и информация о зарплате отражают тенденции рынка и важность гибкости условий труда.  \n",
        "**Анализ работодателей:** Крупные компании и IT-сектор играют ключевую роль на рынке, требуя улучшения качества данных о вакансиях.  \n",
        "**Предметный анализ:** Спрос на Data Science растет, особенно для специалистов с навыками Python и SQL, что влияет на зарплатные ожидания и карьерный рост.  \n",
        "\n",
        "\n",
        "Анализ рынка труда показывает, что существует значительное количество вакансий, отражающее активность и разнообразие экономической среды. Крупные города и IT-отрасль демонстрируют наибольший спрос на специалистов, особенно в области Data Science, где важны навыки работы с Python и SQL. Рост зарплаты с увеличением опыта подчеркивает ценность профессионального развития.\n",
        "\n",
        "Основной движущей силой является цифровизация экономики, которая увеличивает потребность в специалистах по обработке данных и аналитике.\n",
        "\n",
        "Спрос на Data Science и смежные технологические навыки будет продолжать расти, поскольку данные становятся ключевым активом во всех отраслях. Работодателям следует инвестировать в обучение и развитие навыков своих сотрудников, а также предлагать конкурентоспособные условия для привлечения и удержания талантов. "
      ]
    }
  ],
  "metadata": {
    "colab": {
      "collapsed_sections": [
        "8d62a9f3-f64e-4fe7-bdac-c4dffa16155e"
      ],
      "provenance": []
    },
    "kernelspec": {
      "display_name": "Python 3 (ipykernel)",
      "language": "python",
      "name": "python3"
    },
    "language_info": {
      "codemirror_mode": {
        "name": "ipython",
        "version": 3
      },
      "file_extension": ".py",
      "mimetype": "text/x-python",
      "name": "python",
      "nbconvert_exporter": "python",
      "pygments_lexer": "ipython3",
      "version": "3.12.4"
    }
  },
  "nbformat": 4,
  "nbformat_minor": 5
}
